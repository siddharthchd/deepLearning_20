{
  "nbformat": 4,
  "nbformat_minor": 0,
  "metadata": {
    "colab": {
      "name": "demo10_a.ipynb",
      "provenance": [],
      "include_colab_link": true
    },
    "kernelspec": {
      "display_name": "Python 3",
      "language": "python",
      "name": "python3"
    },
    "language_info": {
      "codemirror_mode": {
        "name": "ipython",
        "version": 3
      },
      "file_extension": ".py",
      "mimetype": "text/x-python",
      "name": "python",
      "nbconvert_exporter": "python",
      "pygments_lexer": "ipython3",
      "version": "3.7.3"
    }
  },
  "cells": [
    {
      "cell_type": "markdown",
      "metadata": {
        "id": "view-in-github",
        "colab_type": "text"
      },
      "source": [
        "<a href=\"https://colab.research.google.com/github/siddharthchd/deepLearning_20/blob/main/demo10_a.ipynb\" target=\"_parent\"><img src=\"https://colab.research.google.com/assets/colab-badge.svg\" alt=\"Open In Colab\"/></a>"
      ]
    },
    {
      "cell_type": "markdown",
      "metadata": {
        "id": "8HOm2nh3tRAk"
      },
      "source": [
        "Language prediction from character-wise surnames.\n"
      ]
    },
    {
      "cell_type": "code",
      "metadata": {
        "id": "EOeIrijwtK6E",
        "outputId": "8b9da90c-1cdb-474e-ae6b-40d01599cfbc",
        "colab": {
          "base_uri": "https://localhost:8080/",
          "height": 624
        }
      },
      "source": [
        "%matplotlib inline\n",
        "\n",
        "!wget https://download.pytorch.org/tutorial/data.zip\n",
        "!unzip data.zip\n",
        "\n",
        "from __future__ import unicode_literals, print_function, division\n",
        "from io import open\n",
        "import glob\n",
        "import os\n",
        "\n",
        "def findFiles(path): return glob.glob(path)\n",
        "\n",
        "print(findFiles('data/names/*.txt'))\n",
        "\n",
        "import unicodedata\n",
        "import string\n",
        "\n",
        "all_letters = string.ascii_letters + \" .,;'\"\n",
        "n_letters = len(all_letters)\n",
        "\n",
        "# Turn a Unicode string to plain ASCII, thanks to http://stackoverflow.com/a/518232/2809427\n",
        "def unicodeToAscii(s):\n",
        "    return ''.join(\n",
        "        c for c in unicodedata.normalize('NFD', s)\n",
        "        if unicodedata.category(c) != 'Mn'\n",
        "        and c in all_letters\n",
        "    )\n"
      ],
      "execution_count": null,
      "outputs": [
        {
          "output_type": "stream",
          "text": [
            "--2020-10-16 13:02:35--  https://download.pytorch.org/tutorial/data.zip\n",
            "Resolving download.pytorch.org (download.pytorch.org)... 52.85.224.118, 52.85.224.68, 52.85.224.54, ...\n",
            "Connecting to download.pytorch.org (download.pytorch.org)|52.85.224.118|:443... connected.\n",
            "HTTP request sent, awaiting response... 200 OK\n",
            "Length: 2882130 (2.7M) [application/zip]\n",
            "Saving to: ‘data.zip’\n",
            "\n",
            "data.zip            100%[===================>]   2.75M  --.-KB/s    in 0.1s    \n",
            "\n",
            "2020-10-16 13:02:35 (27.7 MB/s) - ‘data.zip’ saved [2882130/2882130]\n",
            "\n",
            "Archive:  data.zip\n",
            "   creating: data/\n",
            "  inflating: data/eng-fra.txt        \n",
            "   creating: data/names/\n",
            "  inflating: data/names/Arabic.txt   \n",
            "  inflating: data/names/Chinese.txt  \n",
            "  inflating: data/names/Czech.txt    \n",
            "  inflating: data/names/Dutch.txt    \n",
            "  inflating: data/names/English.txt  \n",
            "  inflating: data/names/French.txt   \n",
            "  inflating: data/names/German.txt   \n",
            "  inflating: data/names/Greek.txt    \n",
            "  inflating: data/names/Irish.txt    \n",
            "  inflating: data/names/Italian.txt  \n",
            "  inflating: data/names/Japanese.txt  \n",
            "  inflating: data/names/Korean.txt   \n",
            "  inflating: data/names/Polish.txt   \n",
            "  inflating: data/names/Portuguese.txt  \n",
            "  inflating: data/names/Russian.txt  \n",
            "  inflating: data/names/Scottish.txt  \n",
            "  inflating: data/names/Spanish.txt  \n",
            "  inflating: data/names/Vietnamese.txt  \n",
            "['data/names/Irish.txt', 'data/names/Korean.txt', 'data/names/German.txt', 'data/names/Polish.txt', 'data/names/Vietnamese.txt', 'data/names/Greek.txt', 'data/names/French.txt', 'data/names/Spanish.txt', 'data/names/Russian.txt', 'data/names/English.txt', 'data/names/Czech.txt', 'data/names/Dutch.txt', 'data/names/Scottish.txt', 'data/names/Italian.txt', 'data/names/Arabic.txt', 'data/names/Japanese.txt', 'data/names/Portuguese.txt', 'data/names/Chinese.txt']\n"
          ],
          "name": "stdout"
        }
      ]
    },
    {
      "cell_type": "markdown",
      "metadata": {
        "id": "CuO7F_LAuKAc"
      },
      "source": [
        "Build a list of names per language."
      ]
    },
    {
      "cell_type": "code",
      "metadata": {
        "id": "4yTtu9O4uO-G"
      },
      "source": [
        "# Build the category_lines dictionary, a list of names per language\n",
        "category_lines = {}\n",
        "all_categories = []\n",
        "\n",
        "# Read a file and split into lines\n",
        "def readLines(filename):\n",
        "    lines = open(filename, encoding='utf-8').read().strip().split('\\n')\n",
        "    return [unicodeToAscii(line) for line in lines]\n",
        "\n",
        "for filename in findFiles('data/names/*.txt'):\n",
        "    category = os.path.splitext(os.path.basename(filename))[0]\n",
        "    all_categories.append(category)\n",
        "    lines = readLines(filename)\n",
        "    category_lines[category] = lines\n",
        "\n",
        "n_categories = len(all_categories)"
      ],
      "execution_count": null,
      "outputs": []
    },
    {
      "cell_type": "code",
      "metadata": {
        "id": "_glHLOisumww",
        "outputId": "7fd7052c-d011-4cc6-f9d0-9e771ce8f6bb",
        "colab": {
          "base_uri": "https://localhost:8080/",
          "height": 34
        }
      },
      "source": [
        "print(category_lines['Chinese'][:5])"
      ],
      "execution_count": null,
      "outputs": [
        {
          "output_type": "stream",
          "text": [
            "['Ang', 'AuYong', 'Bai', 'Ban', 'Bao']\n"
          ],
          "name": "stdout"
        }
      ]
    },
    {
      "cell_type": "markdown",
      "metadata": {
        "id": "Y7eSBLonu5uH"
      },
      "source": [
        "Convert names to Pytorch tensors. We will do it character-by-character, so each letter is one-hot encoded."
      ]
    },
    {
      "cell_type": "code",
      "metadata": {
        "id": "vJKvtCyOvF7U",
        "outputId": "d76272cc-b8eb-4d38-b53c-40a54fd99e50",
        "colab": {
          "base_uri": "https://localhost:8080/",
          "height": 328
        }
      },
      "source": [
        "import torch\n",
        "\n",
        "def letterToIndex(letter):\n",
        "    return all_letters.find(letter)\n",
        "\n",
        "def letterToTensor(letter):\n",
        "    tensor = torch.zeros(1, n_letters)\n",
        "    tensor[0][letterToIndex(letter)] = 1\n",
        "    return tensor\n",
        "\n",
        "# Turn a line into an array of one-hot letter vectors\n",
        "def lineToTensor(line):\n",
        "    tensor = torch.zeros(len(line), 1, n_letters)\n",
        "    for li, letter in enumerate(line):\n",
        "        tensor[li][0][letterToIndex(letter)] = 1\n",
        "    return tensor\n",
        "\n",
        "print(letterToTensor('B'))\n",
        "\n",
        "print(lineToTensor('Bai'))"
      ],
      "execution_count": null,
      "outputs": [
        {
          "output_type": "stream",
          "text": [
            "tensor([[0., 0., 0., 0., 0., 0., 0., 0., 0., 0., 0., 0., 0., 0., 0., 0., 0., 0.,\n",
            "         0., 0., 0., 0., 0., 0., 0., 0., 0., 1., 0., 0., 0., 0., 0., 0., 0., 0.,\n",
            "         0., 0., 0., 0., 0., 0., 0., 0., 0., 0., 0., 0., 0., 0., 0., 0., 0., 0.,\n",
            "         0., 0., 0.]])\n",
            "tensor([[[0., 0., 0., 0., 0., 0., 0., 0., 0., 0., 0., 0., 0., 0., 0., 0., 0.,\n",
            "          0., 0., 0., 0., 0., 0., 0., 0., 0., 0., 1., 0., 0., 0., 0., 0., 0.,\n",
            "          0., 0., 0., 0., 0., 0., 0., 0., 0., 0., 0., 0., 0., 0., 0., 0., 0.,\n",
            "          0., 0., 0., 0., 0., 0.]],\n",
            "\n",
            "        [[1., 0., 0., 0., 0., 0., 0., 0., 0., 0., 0., 0., 0., 0., 0., 0., 0.,\n",
            "          0., 0., 0., 0., 0., 0., 0., 0., 0., 0., 0., 0., 0., 0., 0., 0., 0.,\n",
            "          0., 0., 0., 0., 0., 0., 0., 0., 0., 0., 0., 0., 0., 0., 0., 0., 0.,\n",
            "          0., 0., 0., 0., 0., 0.]],\n",
            "\n",
            "        [[0., 0., 0., 0., 0., 0., 0., 0., 1., 0., 0., 0., 0., 0., 0., 0., 0.,\n",
            "          0., 0., 0., 0., 0., 0., 0., 0., 0., 0., 0., 0., 0., 0., 0., 0., 0.,\n",
            "          0., 0., 0., 0., 0., 0., 0., 0., 0., 0., 0., 0., 0., 0., 0., 0., 0.,\n",
            "          0., 0., 0., 0., 0., 0.]]])\n"
          ],
          "name": "stdout"
        }
      ]
    },
    {
      "cell_type": "markdown",
      "metadata": {
        "id": "NeXvc9POv_Ya"
      },
      "source": [
        "Quick helper function to get names/languages."
      ]
    },
    {
      "cell_type": "code",
      "metadata": {
        "id": "X-2r09njv9Ep",
        "outputId": "584b53be-1ecf-4451-eacc-4bbef6690d00",
        "colab": {
          "base_uri": "https://localhost:8080/",
          "height": 189
        }
      },
      "source": [
        "import random\n",
        "\n",
        "def randomChoice(l):\n",
        "    return l[random.randint(0, len(l) - 1)]\n",
        "\n",
        "def randomTrainingExample():\n",
        "    category = randomChoice(all_categories)\n",
        "    line = randomChoice(category_lines[category])\n",
        "    category_tensor = torch.tensor([all_categories.index(category)], dtype=torch.long)\n",
        "    line_tensor = lineToTensor(line)\n",
        "    return category, line, category_tensor, line_tensor\n",
        "\n",
        "for i in range(10):\n",
        "    category, line, category_tensor, line_tensor = randomTrainingExample()\n",
        "    print('category =', category, '/ line =', line)\n",
        "    #print(category, line, category_tensor, line_tensor)"
      ],
      "execution_count": null,
      "outputs": [
        {
          "output_type": "stream",
          "text": [
            "category = German / line = Gerig\n",
            "category = Arabic / line = Botros\n",
            "category = Korean / line = Oh \n",
            "category = Arabic / line = Baz\n",
            "category = Arabic / line = Hanania\n",
            "category = Arabic / line = Harb\n",
            "category = Chinese / line = Chew\n",
            "category = English / line = Tomkins\n",
            "category = Korean / line = Lee\n",
            "category = Portuguese / line = Fonseca\n"
          ],
          "name": "stdout"
        }
      ]
    },
    {
      "cell_type": "markdown",
      "metadata": {
        "id": "zrTwovIywWVS"
      },
      "source": [
        "Another helper function to convert output logits to language."
      ]
    },
    {
      "cell_type": "code",
      "metadata": {
        "id": "KgFTiKJMwZ0I"
      },
      "source": [
        "def categoryFromOutput(output):\n",
        "    top_n, top_i = output.topk(1)\n",
        "    category_i = top_i[0].item()\n",
        "    return all_categories[category_i], category_i"
      ],
      "execution_count": null,
      "outputs": []
    },
    {
      "cell_type": "markdown",
      "metadata": {
        "id": "10K096_AwcXb"
      },
      "source": [
        "OK, now let's define our network and train the model. We will use a recurrent neural network (RNN) with a hidden state vector of size 128. It will pass each character sequentially (remember each character is one-hot encoded) and then finally perform a softmax to get the 18 classes."
      ]
    },
    {
      "cell_type": "code",
      "metadata": {
        "id": "jmxbzHTtwoxR"
      },
      "source": [
        "import torch.nn as nn\n",
        "\n",
        "class RNN(nn.Module):\n",
        "    def __init__(self, input_size, hidden_size, output_size):\n",
        "        super(RNN, self).__init__()\n",
        "\n",
        "        self.hidden_size = hidden_size\n",
        "\n",
        "        self.i2h = nn.Linear(input_size + hidden_size, hidden_size)\n",
        "        self.i2o = nn.Linear(input_size + hidden_size, output_size)\n",
        "        self.softmax = nn.LogSoftmax(dim=1)\n",
        "\n",
        "    def forward(self, input, hidden):\n",
        "        combined = torch.cat((input, hidden), 1)\n",
        "        hidden = self.i2h(combined)\n",
        "        output = self.i2o(combined)\n",
        "        output = self.softmax(output)\n",
        "        return output, hidden\n",
        "\n",
        "    def initHidden(self):\n",
        "        return torch.zeros(1, self.hidden_size)\n",
        "\n",
        "n_hidden = 128\n",
        "rnn = RNN(n_letters, n_hidden, n_categories)"
      ],
      "execution_count": null,
      "outputs": []
    },
    {
      "cell_type": "markdown",
      "metadata": {
        "id": "kkhIVj9Sx-uz"
      },
      "source": [
        "OK, great. Let's train this network. Each loop of training will read each letter in, keep the hidden state for the next letter, and compare the final output with the target label using Cross Entropy Loss. This will be used to backpropagate through the weights."
      ]
    },
    {
      "cell_type": "code",
      "metadata": {
        "id": "4xdvVfHoyBO8"
      },
      "source": [
        "lr = 0.005\n",
        "criterion = nn.NLLLoss()\n",
        "\n",
        "def train(category_tensor,line_tensor):\n",
        "  hidden=rnn.initHidden()\n",
        "  rnn.zero_grad()\n",
        "  for i in range(line_tensor.size()[0]):\n",
        "    output, hidden = rnn(line_tensor[i],hidden)\n",
        "  \n",
        "  loss = criterion(output,category_tensor)\n",
        "  loss.backward()\n",
        "\n",
        "  for p in rnn.parameters():\n",
        "    p.data.add_(-lr,p.grad.data)\n",
        "  \n",
        "  return output, loss.item()\n",
        "   \n",
        "def test(line_tensor):\n",
        "  hidden = rnn.initHidden()\n",
        "  for i in range(line_tensor.size()[0]):\n",
        "    output, hidden = rnn(line_tensor[i], hidden)\n",
        "\n",
        "  return output"
      ],
      "execution_count": null,
      "outputs": []
    },
    {
      "cell_type": "markdown",
      "metadata": {
        "id": "ebQOxHu23-nH"
      },
      "source": [
        "OK! Now we can run a script to monitor the training process. Observe how the loss decreases over time. "
      ]
    },
    {
      "cell_type": "code",
      "metadata": {
        "id": "ja1vaJJS4E4d",
        "outputId": "af402ff5-f9a4-4c05-9182-90126aba340c",
        "colab": {
          "base_uri": "https://localhost:8080/",
          "height": 449
        }
      },
      "source": [
        "n_iters = 100000\n",
        "print_every = 5000\n",
        "plot_every = 1000\n",
        "\n",
        "# Keep track of losses for plotting\n",
        "current_loss = 0\n",
        "all_losses = []\n",
        "\n",
        "\n",
        "for iter in range(1, n_iters + 1):\n",
        "    category, line, category_tensor, line_tensor = randomTrainingExample()\n",
        "    output, loss = train(category_tensor, line_tensor)\n",
        "    current_loss += loss\n",
        "\n",
        "    # Print iter number, loss, name and guess\n",
        "    if iter % print_every == 0:\n",
        "        guess, guess_i = categoryFromOutput(output)\n",
        "        correct = 'Y' if guess == category else 'N (%s)' % category\n",
        "        print('%d %d%% %.4f %s / %s %s' % (iter, iter / n_iters * 100, loss, line, guess, correct))\n",
        "\n",
        "    # Add current loss avg to list of losses\n",
        "    if iter % plot_every == 0:\n",
        "        all_losses.append(current_loss / plot_every)\n",
        "        current_loss = 0"
      ],
      "execution_count": null,
      "outputs": [
        {
          "output_type": "stream",
          "text": [
            "/usr/local/lib/python3.6/dist-packages/ipykernel_launcher.py:14: UserWarning: This overload of add_ is deprecated:\n",
            "\tadd_(Number alpha, Tensor other)\n",
            "Consider using one of the following signatures instead:\n",
            "\tadd_(Tensor other, *, Number alpha) (Triggered internally at  /pytorch/torch/csrc/utils/python_arg_parser.cpp:766.)\n",
            "  \n"
          ],
          "name": "stderr"
        },
        {
          "output_type": "stream",
          "text": [
            "5000 5% 2.5674 Bishara / Japanese N (Arabic)\n",
            "10000 10% 1.8336 Shigeki / Polish N (Japanese)\n",
            "15000 15% 2.0842 Robert / Dutch N (French)\n",
            "20000 20% 1.0348 Gaertner / German Y\n",
            "25000 25% 1.1243 Khoury / Arabic Y\n",
            "30000 30% 0.0908 Gavrilopoulos / Greek Y\n",
            "35000 35% 1.6732 De la fontaine / English N (French)\n",
            "40000 40% 0.7859 Sarraf / Arabic Y\n",
            "45000 45% 2.7269 Cearbhall / Scottish N (Irish)\n",
            "50000 50% 1.2143 Pelaez / Spanish Y\n",
            "55000 55% 1.4586 Buxton / English Y\n",
            "60000 60% 1.2350 Smets / Dutch Y\n",
            "65000 65% 1.5724 Rinn / Irish Y\n",
            "70000 70% 1.2001 Fournier / French Y\n",
            "75000 75% 0.8531 Benitez / Spanish Y\n",
            "80000 80% 0.0180 Likhachev / Russian Y\n",
            "85000 85% 0.1870 Williamson / Scottish Y\n",
            "90000 90% 0.3317 Souza / Portuguese Y\n",
            "95000 95% 0.7312 Seegers / Dutch Y\n",
            "100000 100% 1.9139 Rickards / Greek N (English)\n"
          ],
          "name": "stdout"
        }
      ]
    },
    {
      "cell_type": "markdown",
      "metadata": {
        "id": "csFMr2i14_yO"
      },
      "source": [
        "Great! Seems like things are improving. We can now compute a confusion matrix to see how well we have done."
      ]
    },
    {
      "cell_type": "code",
      "metadata": {
        "id": "sRNGSY694_YB"
      },
      "source": [
        "confusion = torch.zeros(n_categories, n_categories)\n",
        "n_confusion = 10000\n",
        "\n",
        "for i in range(n_confusion):\n",
        "    category, line, category_tensor, line_tensor = randomTrainingExample()\n",
        "    output = test(line_tensor)\n",
        "    guess, guess_i = categoryFromOutput(output)\n",
        "    category_i = all_categories.index(category)\n",
        "    confusion[category_i][guess_i] += 1\n",
        "\n",
        "# Normalize by dividing every row by its sum\n",
        "for i in range(n_categories):\n",
        "    confusion[i] = confusion[i] / confusion[i].sum()"
      ],
      "execution_count": null,
      "outputs": []
    },
    {
      "cell_type": "markdown",
      "metadata": {
        "id": "3yqDdcGB5wj_"
      },
      "source": [
        "Let's visualize the confusion matrix!"
      ]
    },
    {
      "cell_type": "code",
      "metadata": {
        "id": "KwLA93uT5psj",
        "outputId": "41c54ed8-9331-477b-884f-9e3c1abb0785",
        "colab": {
          "base_uri": "https://localhost:8080/",
          "height": 320
        }
      },
      "source": [
        "import matplotlib.pyplot as plt\n",
        "import matplotlib.ticker as ticker\n",
        "\n",
        "fig = plt.figure()\n",
        "ax = fig.add_subplot(111)\n",
        "cax = ax.matshow(confusion.numpy())\n",
        "fig.colorbar(cax)\n",
        "\n",
        "# Set up axes\n",
        "ax.set_xticklabels([''] + all_categories, rotation=90)\n",
        "ax.set_yticklabels([''] + all_categories)\n",
        "\n",
        "# Force label at every tick\n",
        "ax.xaxis.set_major_locator(ticker.MultipleLocator(1))\n",
        "ax.yaxis.set_major_locator(ticker.MultipleLocator(1))\n",
        "\n",
        "plt.show()"
      ],
      "execution_count": null,
      "outputs": [
        {
          "output_type": "display_data",
          "data": {
            "image/png": "[encoded data removed]",
            "text/plain": [
              "<Figure size 432x288 with 2 Axes>"
            ]
          },
          "metadata": {
            "tags": [],
            "needs_background": "light"
          }
        }
      ]
    },
    {
      "cell_type": "code",
      "metadata": {
        "id": "ll1ukTEUkOP4"
      },
      "source": [
        ""
      ],
      "execution_count": null,
      "outputs": []
    }
  ]
}