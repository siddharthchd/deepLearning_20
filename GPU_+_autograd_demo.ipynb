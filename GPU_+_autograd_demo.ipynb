{
  "nbformat": 4,
  "nbformat_minor": 0,
  "metadata": {
    "accelerator": "GPU",
    "colab": {
      "name": "GPU + autograd demo.ipynb",
      "provenance": [],
      "collapsed_sections": []
    },
    "kernelspec": {
      "display_name": "Python 3",
      "language": "python",
      "name": "python3"
    },
    "language_info": {
      "codemirror_mode": {
        "name": "ipython",
        "version": 3
      },
      "file_extension": ".py",
      "mimetype": "text/x-python",
      "name": "python",
      "nbconvert_exporter": "python",
      "pygments_lexer": "ipython3",
      "version": "3.7.6"
    },
    "widgets": {
      "application/vnd.jupyter.widget-state+json": {
        "a969752204e44a909655131361fded56": {
          "model_module": "@jupyter-widgets/controls",
          "model_name": "HBoxModel",
          "state": {
            "_view_name": "HBoxView",
            "_dom_classes": [],
            "_model_name": "HBoxModel",
            "_view_module": "@jupyter-widgets/controls",
            "_model_module_version": "1.5.0",
            "_view_count": null,
            "_view_module_version": "1.5.0",
            "box_style": "",
            "layout": "IPY_MODEL_7e8914564d5c4f799768bab488da70f4",
            "_model_module": "@jupyter-widgets/controls",
            "children": [
              "IPY_MODEL_d09c904766aa49f8b16ed1398a39f730",
              "IPY_MODEL_f4bec454f7c14aceb95f649afdf360a6"
            ]
          }
        },
        "7e8914564d5c4f799768bab488da70f4": {
          "model_module": "@jupyter-widgets/base",
          "model_name": "LayoutModel",
          "state": {
            "_view_name": "LayoutView",
            "grid_template_rows": null,
            "right": null,
            "justify_content": null,
            "_view_module": "@jupyter-widgets/base",
            "overflow": null,
            "_model_module_version": "1.2.0",
            "_view_count": null,
            "flex_flow": null,
            "width": null,
            "min_width": null,
            "border": null,
            "align_items": null,
            "bottom": null,
            "_model_module": "@jupyter-widgets/base",
            "top": null,
            "grid_column": null,
            "overflow_y": null,
            "overflow_x": null,
            "grid_auto_flow": null,
            "grid_area": null,
            "grid_template_columns": null,
            "flex": null,
            "_model_name": "LayoutModel",
            "justify_items": null,
            "grid_row": null,
            "max_height": null,
            "align_content": null,
            "visibility": null,
            "align_self": null,
            "height": null,
            "min_height": null,
            "padding": null,
            "grid_auto_rows": null,
            "grid_gap": null,
            "max_width": null,
            "order": null,
            "_view_module_version": "1.2.0",
            "grid_template_areas": null,
            "object_position": null,
            "object_fit": null,
            "grid_auto_columns": null,
            "margin": null,
            "display": null,
            "left": null
          }
        },
        "d09c904766aa49f8b16ed1398a39f730": {
          "model_module": "@jupyter-widgets/controls",
          "model_name": "FloatProgressModel",
          "state": {
            "_view_name": "ProgressView",
            "style": "IPY_MODEL_a91684e963904a24aec67eafcf7e929e",
            "_dom_classes": [],
            "description": "",
            "_model_name": "FloatProgressModel",
            "bar_style": "info",
            "max": 1,
            "_view_module": "@jupyter-widgets/controls",
            "_model_module_version": "1.5.0",
            "value": 1,
            "_view_count": null,
            "_view_module_version": "1.5.0",
            "orientation": "horizontal",
            "min": 0,
            "description_tooltip": null,
            "_model_module": "@jupyter-widgets/controls",
            "layout": "IPY_MODEL_e9fbab9031c64def9085cedc057164d6"
          }
        },
        "f4bec454f7c14aceb95f649afdf360a6": {
          "model_module": "@jupyter-widgets/controls",
          "model_name": "HTMLModel",
          "state": {
            "_view_name": "HTMLView",
            "style": "IPY_MODEL_8cc2baf68dda41cdbfa64dc83dd37d7c",
            "_dom_classes": [],
            "description": "",
            "_model_name": "HTMLModel",
            "placeholder": "​",
            "_view_module": "@jupyter-widgets/controls",
            "_model_module_version": "1.5.0",
            "value": " 26427392/? [00:20&lt;00:00, 12656847.25it/s]",
            "_view_count": null,
            "_view_module_version": "1.5.0",
            "description_tooltip": null,
            "_model_module": "@jupyter-widgets/controls",
            "layout": "IPY_MODEL_8eb20d28888b4673804ca9fd5a24c9a6"
          }
        },
        "a91684e963904a24aec67eafcf7e929e": {
          "model_module": "@jupyter-widgets/controls",
          "model_name": "ProgressStyleModel",
          "state": {
            "_view_name": "StyleView",
            "_model_name": "ProgressStyleModel",
            "description_width": "initial",
            "_view_module": "@jupyter-widgets/base",
            "_model_module_version": "1.5.0",
            "_view_count": null,
            "_view_module_version": "1.2.0",
            "bar_color": null,
            "_model_module": "@jupyter-widgets/controls"
          }
        },
        "e9fbab9031c64def9085cedc057164d6": {
          "model_module": "@jupyter-widgets/base",
          "model_name": "LayoutModel",
          "state": {
            "_view_name": "LayoutView",
            "grid_template_rows": null,
            "right": null,
            "justify_content": null,
            "_view_module": "@jupyter-widgets/base",
            "overflow": null,
            "_model_module_version": "1.2.0",
            "_view_count": null,
            "flex_flow": null,
            "width": null,
            "min_width": null,
            "border": null,
            "align_items": null,
            "bottom": null,
            "_model_module": "@jupyter-widgets/base",
            "top": null,
            "grid_column": null,
            "overflow_y": null,
            "overflow_x": null,
            "grid_auto_flow": null,
            "grid_area": null,
            "grid_template_columns": null,
            "flex": null,
            "_model_name": "LayoutModel",
            "justify_items": null,
            "grid_row": null,
            "max_height": null,
            "align_content": null,
            "visibility": null,
            "align_self": null,
            "height": null,
            "min_height": null,
            "padding": null,
            "grid_auto_rows": null,
            "grid_gap": null,
            "max_width": null,
            "order": null,
            "_view_module_version": "1.2.0",
            "grid_template_areas": null,
            "object_position": null,
            "object_fit": null,
            "grid_auto_columns": null,
            "margin": null,
            "display": null,
            "left": null
          }
        },
        "8cc2baf68dda41cdbfa64dc83dd37d7c": {
          "model_module": "@jupyter-widgets/controls",
          "model_name": "DescriptionStyleModel",
          "state": {
            "_view_name": "StyleView",
            "_model_name": "DescriptionStyleModel",
            "description_width": "",
            "_view_module": "@jupyter-widgets/base",
            "_model_module_version": "1.5.0",
            "_view_count": null,
            "_view_module_version": "1.2.0",
            "_model_module": "@jupyter-widgets/controls"
          }
        },
        "8eb20d28888b4673804ca9fd5a24c9a6": {
          "model_module": "@jupyter-widgets/base",
          "model_name": "LayoutModel",
          "state": {
            "_view_name": "LayoutView",
            "grid_template_rows": null,
            "right": null,
            "justify_content": null,
            "_view_module": "@jupyter-widgets/base",
            "overflow": null,
            "_model_module_version": "1.2.0",
            "_view_count": null,
            "flex_flow": null,
            "width": null,
            "min_width": null,
            "border": null,
            "align_items": null,
            "bottom": null,
            "_model_module": "@jupyter-widgets/base",
            "top": null,
            "grid_column": null,
            "overflow_y": null,
            "overflow_x": null,
            "grid_auto_flow": null,
            "grid_area": null,
            "grid_template_columns": null,
            "flex": null,
            "_model_name": "LayoutModel",
            "justify_items": null,
            "grid_row": null,
            "max_height": null,
            "align_content": null,
            "visibility": null,
            "align_self": null,
            "height": null,
            "min_height": null,
            "padding": null,
            "grid_auto_rows": null,
            "grid_gap": null,
            "max_width": null,
            "order": null,
            "_view_module_version": "1.2.0",
            "grid_template_areas": null,
            "object_position": null,
            "object_fit": null,
            "grid_auto_columns": null,
            "margin": null,
            "display": null,
            "left": null
          }
        },
        "d3a43f05cb854102949ddc5309f2b0cf": {
          "model_module": "@jupyter-widgets/controls",
          "model_name": "HBoxModel",
          "state": {
            "_view_name": "HBoxView",
            "_dom_classes": [],
            "_model_name": "HBoxModel",
            "_view_module": "@jupyter-widgets/controls",
            "_model_module_version": "1.5.0",
            "_view_count": null,
            "_view_module_version": "1.5.0",
            "box_style": "",
            "layout": "IPY_MODEL_150ecd8c57ef4273891c8a3cecbf48af",
            "_model_module": "@jupyter-widgets/controls",
            "children": [
              "IPY_MODEL_28c3bf71982241228bcd834d7caa739f",
              "IPY_MODEL_aeb463c53d17410593355a2224df0afc"
            ]
          }
        },
        "150ecd8c57ef4273891c8a3cecbf48af": {
          "model_module": "@jupyter-widgets/base",
          "model_name": "LayoutModel",
          "state": {
            "_view_name": "LayoutView",
            "grid_template_rows": null,
            "right": null,
            "justify_content": null,
            "_view_module": "@jupyter-widgets/base",
            "overflow": null,
            "_model_module_version": "1.2.0",
            "_view_count": null,
            "flex_flow": null,
            "width": null,
            "min_width": null,
            "border": null,
            "align_items": null,
            "bottom": null,
            "_model_module": "@jupyter-widgets/base",
            "top": null,
            "grid_column": null,
            "overflow_y": null,
            "overflow_x": null,
            "grid_auto_flow": null,
            "grid_area": null,
            "grid_template_columns": null,
            "flex": null,
            "_model_name": "LayoutModel",
            "justify_items": null,
            "grid_row": null,
            "max_height": null,
            "align_content": null,
            "visibility": null,
            "align_self": null,
            "height": null,
            "min_height": null,
            "padding": null,
            "grid_auto_rows": null,
            "grid_gap": null,
            "max_width": null,
            "order": null,
            "_view_module_version": "1.2.0",
            "grid_template_areas": null,
            "object_position": null,
            "object_fit": null,
            "grid_auto_columns": null,
            "margin": null,
            "display": null,
            "left": null
          }
        },
        "28c3bf71982241228bcd834d7caa739f": {
          "model_module": "@jupyter-widgets/controls",
          "model_name": "FloatProgressModel",
          "state": {
            "_view_name": "ProgressView",
            "style": "IPY_MODEL_390dbcae96474219a85a61a3188bfe5a",
            "_dom_classes": [],
            "description": "",
            "_model_name": "FloatProgressModel",
            "bar_style": "success",
            "max": 1,
            "_view_module": "@jupyter-widgets/controls",
            "_model_module_version": "1.5.0",
            "value": 1,
            "_view_count": null,
            "_view_module_version": "1.5.0",
            "orientation": "horizontal",
            "min": 0,
            "description_tooltip": null,
            "_model_module": "@jupyter-widgets/controls",
            "layout": "IPY_MODEL_1fe5bb2bf4e141b1b4920009b59cadd4"
          }
        },
        "aeb463c53d17410593355a2224df0afc": {
          "model_module": "@jupyter-widgets/controls",
          "model_name": "HTMLModel",
          "state": {
            "_view_name": "HTMLView",
            "style": "IPY_MODEL_605148ac7f7848c7914fc885ec2091d3",
            "_dom_classes": [],
            "description": "",
            "_model_name": "HTMLModel",
            "placeholder": "​",
            "_view_module": "@jupyter-widgets/controls",
            "_model_module_version": "1.5.0",
            "value": " 32768/? [00:01&lt;00:00, 20793.11it/s]",
            "_view_count": null,
            "_view_module_version": "1.5.0",
            "description_tooltip": null,
            "_model_module": "@jupyter-widgets/controls",
            "layout": "IPY_MODEL_e6f53d2c869d41cca63678e2ba7506d0"
          }
        },
        "390dbcae96474219a85a61a3188bfe5a": {
          "model_module": "@jupyter-widgets/controls",
          "model_name": "ProgressStyleModel",
          "state": {
            "_view_name": "StyleView",
            "_model_name": "ProgressStyleModel",
            "description_width": "initial",
            "_view_module": "@jupyter-widgets/base",
            "_model_module_version": "1.5.0",
            "_view_count": null,
            "_view_module_version": "1.2.0",
            "bar_color": null,
            "_model_module": "@jupyter-widgets/controls"
          }
        },
        "1fe5bb2bf4e141b1b4920009b59cadd4": {
          "model_module": "@jupyter-widgets/base",
          "model_name": "LayoutModel",
          "state": {
            "_view_name": "LayoutView",
            "grid_template_rows": null,
            "right": null,
            "justify_content": null,
            "_view_module": "@jupyter-widgets/base",
            "overflow": null,
            "_model_module_version": "1.2.0",
            "_view_count": null,
            "flex_flow": null,
            "width": null,
            "min_width": null,
            "border": null,
            "align_items": null,
            "bottom": null,
            "_model_module": "@jupyter-widgets/base",
            "top": null,
            "grid_column": null,
            "overflow_y": null,
            "overflow_x": null,
            "grid_auto_flow": null,
            "grid_area": null,
            "grid_template_columns": null,
            "flex": null,
            "_model_name": "LayoutModel",
            "justify_items": null,
            "grid_row": null,
            "max_height": null,
            "align_content": null,
            "visibility": null,
            "align_self": null,
            "height": null,
            "min_height": null,
            "padding": null,
            "grid_auto_rows": null,
            "grid_gap": null,
            "max_width": null,
            "order": null,
            "_view_module_version": "1.2.0",
            "grid_template_areas": null,
            "object_position": null,
            "object_fit": null,
            "grid_auto_columns": null,
            "margin": null,
            "display": null,
            "left": null
          }
        },
        "605148ac7f7848c7914fc885ec2091d3": {
          "model_module": "@jupyter-widgets/controls",
          "model_name": "DescriptionStyleModel",
          "state": {
            "_view_name": "StyleView",
            "_model_name": "DescriptionStyleModel",
            "description_width": "",
            "_view_module": "@jupyter-widgets/base",
            "_model_module_version": "1.5.0",
            "_view_count": null,
            "_view_module_version": "1.2.0",
            "_model_module": "@jupyter-widgets/controls"
          }
        },
        "e6f53d2c869d41cca63678e2ba7506d0": {
          "model_module": "@jupyter-widgets/base",
          "model_name": "LayoutModel",
          "state": {
            "_view_name": "LayoutView",
            "grid_template_rows": null,
            "right": null,
            "justify_content": null,
            "_view_module": "@jupyter-widgets/base",
            "overflow": null,
            "_model_module_version": "1.2.0",
            "_view_count": null,
            "flex_flow": null,
            "width": null,
            "min_width": null,
            "border": null,
            "align_items": null,
            "bottom": null,
            "_model_module": "@jupyter-widgets/base",
            "top": null,
            "grid_column": null,
            "overflow_y": null,
            "overflow_x": null,
            "grid_auto_flow": null,
            "grid_area": null,
            "grid_template_columns": null,
            "flex": null,
            "_model_name": "LayoutModel",
            "justify_items": null,
            "grid_row": null,
            "max_height": null,
            "align_content": null,
            "visibility": null,
            "align_self": null,
            "height": null,
            "min_height": null,
            "padding": null,
            "grid_auto_rows": null,
            "grid_gap": null,
            "max_width": null,
            "order": null,
            "_view_module_version": "1.2.0",
            "grid_template_areas": null,
            "object_position": null,
            "object_fit": null,
            "grid_auto_columns": null,
            "margin": null,
            "display": null,
            "left": null
          }
        },
        "aedf12c0a9324d9abd8cf391cf7ec540": {
          "model_module": "@jupyter-widgets/controls",
          "model_name": "HBoxModel",
          "state": {
            "_view_name": "HBoxView",
            "_dom_classes": [],
            "_model_name": "HBoxModel",
            "_view_module": "@jupyter-widgets/controls",
            "_model_module_version": "1.5.0",
            "_view_count": null,
            "_view_module_version": "1.5.0",
            "box_style": "",
            "layout": "IPY_MODEL_bd26640e70f145f7abb16236434205f4",
            "_model_module": "@jupyter-widgets/controls",
            "children": [
              "IPY_MODEL_e67aa0d897414e35beb4c438c8a9b7a3",
              "IPY_MODEL_36dd55afb3394f01bed5fa64393f5a00"
            ]
          }
        },
        "bd26640e70f145f7abb16236434205f4": {
          "model_module": "@jupyter-widgets/base",
          "model_name": "LayoutModel",
          "state": {
            "_view_name": "LayoutView",
            "grid_template_rows": null,
            "right": null,
            "justify_content": null,
            "_view_module": "@jupyter-widgets/base",
            "overflow": null,
            "_model_module_version": "1.2.0",
            "_view_count": null,
            "flex_flow": null,
            "width": null,
            "min_width": null,
            "border": null,
            "align_items": null,
            "bottom": null,
            "_model_module": "@jupyter-widgets/base",
            "top": null,
            "grid_column": null,
            "overflow_y": null,
            "overflow_x": null,
            "grid_auto_flow": null,
            "grid_area": null,
            "grid_template_columns": null,
            "flex": null,
            "_model_name": "LayoutModel",
            "justify_items": null,
            "grid_row": null,
            "max_height": null,
            "align_content": null,
            "visibility": null,
            "align_self": null,
            "height": null,
            "min_height": null,
            "padding": null,
            "grid_auto_rows": null,
            "grid_gap": null,
            "max_width": null,
            "order": null,
            "_view_module_version": "1.2.0",
            "grid_template_areas": null,
            "object_position": null,
            "object_fit": null,
            "grid_auto_columns": null,
            "margin": null,
            "display": null,
            "left": null
          }
        },
        "e67aa0d897414e35beb4c438c8a9b7a3": {
          "model_module": "@jupyter-widgets/controls",
          "model_name": "FloatProgressModel",
          "state": {
            "_view_name": "ProgressView",
            "style": "IPY_MODEL_9f2f41fc223b48179bcfb8cc0f70b339",
            "_dom_classes": [],
            "description": "",
            "_model_name": "FloatProgressModel",
            "bar_style": "success",
            "max": 1,
            "_view_module": "@jupyter-widgets/controls",
            "_model_module_version": "1.5.0",
            "value": 1,
            "_view_count": null,
            "_view_module_version": "1.5.0",
            "orientation": "horizontal",
            "min": 0,
            "description_tooltip": null,
            "_model_module": "@jupyter-widgets/controls",
            "layout": "IPY_MODEL_4ce33bd9df4449cb8bce6b906f5958e4"
          }
        },
        "36dd55afb3394f01bed5fa64393f5a00": {
          "model_module": "@jupyter-widgets/controls",
          "model_name": "HTMLModel",
          "state": {
            "_view_name": "HTMLView",
            "style": "IPY_MODEL_246bd20cd37b455badc2a90e3cd2338a",
            "_dom_classes": [],
            "description": "",
            "_model_name": "HTMLModel",
            "placeholder": "​",
            "_view_module": "@jupyter-widgets/controls",
            "_model_module_version": "1.5.0",
            "value": " 4423680/? [00:01&lt;00:00, 3673294.51it/s]",
            "_view_count": null,
            "_view_module_version": "1.5.0",
            "description_tooltip": null,
            "_model_module": "@jupyter-widgets/controls",
            "layout": "IPY_MODEL_6a4ac0e8927c46af8ba066cd3cb8d39a"
          }
        },
        "9f2f41fc223b48179bcfb8cc0f70b339": {
          "model_module": "@jupyter-widgets/controls",
          "model_name": "ProgressStyleModel",
          "state": {
            "_view_name": "StyleView",
            "_model_name": "ProgressStyleModel",
            "description_width": "initial",
            "_view_module": "@jupyter-widgets/base",
            "_model_module_version": "1.5.0",
            "_view_count": null,
            "_view_module_version": "1.2.0",
            "bar_color": null,
            "_model_module": "@jupyter-widgets/controls"
          }
        },
        "4ce33bd9df4449cb8bce6b906f5958e4": {
          "model_module": "@jupyter-widgets/base",
          "model_name": "LayoutModel",
          "state": {
            "_view_name": "LayoutView",
            "grid_template_rows": null,
            "right": null,
            "justify_content": null,
            "_view_module": "@jupyter-widgets/base",
            "overflow": null,
            "_model_module_version": "1.2.0",
            "_view_count": null,
            "flex_flow": null,
            "width": null,
            "min_width": null,
            "border": null,
            "align_items": null,
            "bottom": null,
            "_model_module": "@jupyter-widgets/base",
            "top": null,
            "grid_column": null,
            "overflow_y": null,
            "overflow_x": null,
            "grid_auto_flow": null,
            "grid_area": null,
            "grid_template_columns": null,
            "flex": null,
            "_model_name": "LayoutModel",
            "justify_items": null,
            "grid_row": null,
            "max_height": null,
            "align_content": null,
            "visibility": null,
            "align_self": null,
            "height": null,
            "min_height": null,
            "padding": null,
            "grid_auto_rows": null,
            "grid_gap": null,
            "max_width": null,
            "order": null,
            "_view_module_version": "1.2.0",
            "grid_template_areas": null,
            "object_position": null,
            "object_fit": null,
            "grid_auto_columns": null,
            "margin": null,
            "display": null,
            "left": null
          }
        },
        "246bd20cd37b455badc2a90e3cd2338a": {
          "model_module": "@jupyter-widgets/controls",
          "model_name": "DescriptionStyleModel",
          "state": {
            "_view_name": "StyleView",
            "_model_name": "DescriptionStyleModel",
            "description_width": "",
            "_view_module": "@jupyter-widgets/base",
            "_model_module_version": "1.5.0",
            "_view_count": null,
            "_view_module_version": "1.2.0",
            "_model_module": "@jupyter-widgets/controls"
          }
        },
        "6a4ac0e8927c46af8ba066cd3cb8d39a": {
          "model_module": "@jupyter-widgets/base",
          "model_name": "LayoutModel",
          "state": {
            "_view_name": "LayoutView",
            "grid_template_rows": null,
            "right": null,
            "justify_content": null,
            "_view_module": "@jupyter-widgets/base",
            "overflow": null,
            "_model_module_version": "1.2.0",
            "_view_count": null,
            "flex_flow": null,
            "width": null,
            "min_width": null,
            "border": null,
            "align_items": null,
            "bottom": null,
            "_model_module": "@jupyter-widgets/base",
            "top": null,
            "grid_column": null,
            "overflow_y": null,
            "overflow_x": null,
            "grid_auto_flow": null,
            "grid_area": null,
            "grid_template_columns": null,
            "flex": null,
            "_model_name": "LayoutModel",
            "justify_items": null,
            "grid_row": null,
            "max_height": null,
            "align_content": null,
            "visibility": null,
            "align_self": null,
            "height": null,
            "min_height": null,
            "padding": null,
            "grid_auto_rows": null,
            "grid_gap": null,
            "max_width": null,
            "order": null,
            "_view_module_version": "1.2.0",
            "grid_template_areas": null,
            "object_position": null,
            "object_fit": null,
            "grid_auto_columns": null,
            "margin": null,
            "display": null,
            "left": null
          }
        },
        "7218e2afc8c44c8f8094330941639770": {
          "model_module": "@jupyter-widgets/controls",
          "model_name": "HBoxModel",
          "state": {
            "_view_name": "HBoxView",
            "_dom_classes": [],
            "_model_name": "HBoxModel",
            "_view_module": "@jupyter-widgets/controls",
            "_model_module_version": "1.5.0",
            "_view_count": null,
            "_view_module_version": "1.5.0",
            "box_style": "",
            "layout": "IPY_MODEL_ce68a991ac0f4328829db302a03bd0b3",
            "_model_module": "@jupyter-widgets/controls",
            "children": [
              "IPY_MODEL_5de80e380e91473fbb88823230cb5367",
              "IPY_MODEL_865fe0ed556147c896d21c05d5f00893"
            ]
          }
        },
        "ce68a991ac0f4328829db302a03bd0b3": {
          "model_module": "@jupyter-widgets/base",
          "model_name": "LayoutModel",
          "state": {
            "_view_name": "LayoutView",
            "grid_template_rows": null,
            "right": null,
            "justify_content": null,
            "_view_module": "@jupyter-widgets/base",
            "overflow": null,
            "_model_module_version": "1.2.0",
            "_view_count": null,
            "flex_flow": null,
            "width": null,
            "min_width": null,
            "border": null,
            "align_items": null,
            "bottom": null,
            "_model_module": "@jupyter-widgets/base",
            "top": null,
            "grid_column": null,
            "overflow_y": null,
            "overflow_x": null,
            "grid_auto_flow": null,
            "grid_area": null,
            "grid_template_columns": null,
            "flex": null,
            "_model_name": "LayoutModel",
            "justify_items": null,
            "grid_row": null,
            "max_height": null,
            "align_content": null,
            "visibility": null,
            "align_self": null,
            "height": null,
            "min_height": null,
            "padding": null,
            "grid_auto_rows": null,
            "grid_gap": null,
            "max_width": null,
            "order": null,
            "_view_module_version": "1.2.0",
            "grid_template_areas": null,
            "object_position": null,
            "object_fit": null,
            "grid_auto_columns": null,
            "margin": null,
            "display": null,
            "left": null
          }
        },
        "5de80e380e91473fbb88823230cb5367": {
          "model_module": "@jupyter-widgets/controls",
          "model_name": "FloatProgressModel",
          "state": {
            "_view_name": "ProgressView",
            "style": "IPY_MODEL_354fab42535d4b03ac29f99cf615e960",
            "_dom_classes": [],
            "description": "  0%",
            "_model_name": "FloatProgressModel",
            "bar_style": "info",
            "max": 1,
            "_view_module": "@jupyter-widgets/controls",
            "_model_module_version": "1.5.0",
            "value": 0,
            "_view_count": null,
            "_view_module_version": "1.5.0",
            "orientation": "horizontal",
            "min": 0,
            "description_tooltip": null,
            "_model_module": "@jupyter-widgets/controls",
            "layout": "IPY_MODEL_b2a302a1487345f28c87885160a8e550"
          }
        },
        "865fe0ed556147c896d21c05d5f00893": {
          "model_module": "@jupyter-widgets/controls",
          "model_name": "HTMLModel",
          "state": {
            "_view_name": "HTMLView",
            "style": "IPY_MODEL_b3401b5d70ca464798e7951408483913",
            "_dom_classes": [],
            "description": "",
            "_model_name": "HTMLModel",
            "placeholder": "​",
            "_view_module": "@jupyter-widgets/controls",
            "_model_module_version": "1.5.0",
            "value": " 0/5148 [00:00&lt;?, ?it/s]",
            "_view_count": null,
            "_view_module_version": "1.5.0",
            "description_tooltip": null,
            "_model_module": "@jupyter-widgets/controls",
            "layout": "IPY_MODEL_b6e2857718cf491db18e2325a9dc2550"
          }
        },
        "354fab42535d4b03ac29f99cf615e960": {
          "model_module": "@jupyter-widgets/controls",
          "model_name": "ProgressStyleModel",
          "state": {
            "_view_name": "StyleView",
            "_model_name": "ProgressStyleModel",
            "description_width": "initial",
            "_view_module": "@jupyter-widgets/base",
            "_model_module_version": "1.5.0",
            "_view_count": null,
            "_view_module_version": "1.2.0",
            "bar_color": null,
            "_model_module": "@jupyter-widgets/controls"
          }
        },
        "b2a302a1487345f28c87885160a8e550": {
          "model_module": "@jupyter-widgets/base",
          "model_name": "LayoutModel",
          "state": {
            "_view_name": "LayoutView",
            "grid_template_rows": null,
            "right": null,
            "justify_content": null,
            "_view_module": "@jupyter-widgets/base",
            "overflow": null,
            "_model_module_version": "1.2.0",
            "_view_count": null,
            "flex_flow": null,
            "width": null,
            "min_width": null,
            "border": null,
            "align_items": null,
            "bottom": null,
            "_model_module": "@jupyter-widgets/base",
            "top": null,
            "grid_column": null,
            "overflow_y": null,
            "overflow_x": null,
            "grid_auto_flow": null,
            "grid_area": null,
            "grid_template_columns": null,
            "flex": null,
            "_model_name": "LayoutModel",
            "justify_items": null,
            "grid_row": null,
            "max_height": null,
            "align_content": null,
            "visibility": null,
            "align_self": null,
            "height": null,
            "min_height": null,
            "padding": null,
            "grid_auto_rows": null,
            "grid_gap": null,
            "max_width": null,
            "order": null,
            "_view_module_version": "1.2.0",
            "grid_template_areas": null,
            "object_position": null,
            "object_fit": null,
            "grid_auto_columns": null,
            "margin": null,
            "display": null,
            "left": null
          }
        },
        "b3401b5d70ca464798e7951408483913": {
          "model_module": "@jupyter-widgets/controls",
          "model_name": "DescriptionStyleModel",
          "state": {
            "_view_name": "StyleView",
            "_model_name": "DescriptionStyleModel",
            "description_width": "",
            "_view_module": "@jupyter-widgets/base",
            "_model_module_version": "1.5.0",
            "_view_count": null,
            "_view_module_version": "1.2.0",
            "_model_module": "@jupyter-widgets/controls"
          }
        },
        "b6e2857718cf491db18e2325a9dc2550": {
          "model_module": "@jupyter-widgets/base",
          "model_name": "LayoutModel",
          "state": {
            "_view_name": "LayoutView",
            "grid_template_rows": null,
            "right": null,
            "justify_content": null,
            "_view_module": "@jupyter-widgets/base",
            "overflow": null,
            "_model_module_version": "1.2.0",
            "_view_count": null,
            "flex_flow": null,
            "width": null,
            "min_width": null,
            "border": null,
            "align_items": null,
            "bottom": null,
            "_model_module": "@jupyter-widgets/base",
            "top": null,
            "grid_column": null,
            "overflow_y": null,
            "overflow_x": null,
            "grid_auto_flow": null,
            "grid_area": null,
            "grid_template_columns": null,
            "flex": null,
            "_model_name": "LayoutModel",
            "justify_items": null,
            "grid_row": null,
            "max_height": null,
            "align_content": null,
            "visibility": null,
            "align_self": null,
            "height": null,
            "min_height": null,
            "padding": null,
            "grid_auto_rows": null,
            "grid_gap": null,
            "max_width": null,
            "order": null,
            "_view_module_version": "1.2.0",
            "grid_template_areas": null,
            "object_position": null,
            "object_fit": null,
            "grid_auto_columns": null,
            "margin": null,
            "display": null,
            "left": null
          }
        }
      }
    }
  },
  "cells": [
    {
      "cell_type": "markdown",
      "metadata": {
        "id": "CK3VhrkakGrS",
        "colab_type": "text"
      },
      "source": [
        "Made by Sarah"
      ]
    },
    {
      "cell_type": "code",
      "metadata": {
        "colab_type": "code",
        "id": "8zHrM6ihB1uA",
        "colab": {}
      },
      "source": [
        "import torch\n",
        "import torchvision\n",
        "\n",
        "%matplotlib inline\n",
        "import matplotlib.pyplot as plt"
      ],
      "execution_count": 1,
      "outputs": []
    },
    {
      "cell_type": "code",
      "metadata": {
        "id": "Rpiy3W2z6Ueh",
        "colab_type": "code",
        "colab": {
          "base_uri": "https://localhost:8080/",
          "height": 295
        },
        "outputId": "af117e67-4a96-4b8b-a8ee-dc46c9e91a6f"
      },
      "source": [
        "# render the computation graphs\n",
        "!pip install torchviz\n",
        "from torchviz import make_dot"
      ],
      "execution_count": 2,
      "outputs": [
        {
          "output_type": "stream",
          "text": [
            "Collecting torchviz\n",
            "\u001b[?25l  Downloading https://files.pythonhosted.org/packages/8f/8e/a9630c7786b846d08b47714dd363a051f5e37b4ea0e534460d8cdfc1644b/torchviz-0.0.1.tar.gz (41kB)\n",
            "\r\u001b[K     |████████                        | 10kB 21.4MB/s eta 0:00:01\r\u001b[K     |████████████████                | 20kB 1.9MB/s eta 0:00:01\r\u001b[K     |███████████████████████▉        | 30kB 2.4MB/s eta 0:00:01\r\u001b[K     |███████████████████████████████▉| 40kB 2.7MB/s eta 0:00:01\r\u001b[K     |████████████████████████████████| 51kB 2.4MB/s \n",
            "\u001b[?25hRequirement already satisfied: torch in /usr/local/lib/python3.6/dist-packages (from torchviz) (1.6.0+cu101)\n",
            "Requirement already satisfied: graphviz in /usr/local/lib/python3.6/dist-packages (from torchviz) (0.10.1)\n",
            "Requirement already satisfied: numpy in /usr/local/lib/python3.6/dist-packages (from torch->torchviz) (1.18.5)\n",
            "Requirement already satisfied: future in /usr/local/lib/python3.6/dist-packages (from torch->torchviz) (0.16.0)\n",
            "Building wheels for collected packages: torchviz\n",
            "  Building wheel for torchviz (setup.py) ... \u001b[?25l\u001b[?25hdone\n",
            "  Created wheel for torchviz: filename=torchviz-0.0.1-cp36-none-any.whl size=3520 sha256=cb2a5101dc89586ac63256078e4db95baa5ea740a260546d51d37ca503ba7bff\n",
            "  Stored in directory: /root/.cache/pip/wheels/2a/c2/c5/b8b4d0f7992c735f6db5bfa3c5f354cf36502037ca2b585667\n",
            "Successfully built torchviz\n",
            "Installing collected packages: torchviz\n",
            "Successfully installed torchviz-0.0.1\n"
          ],
          "name": "stdout"
        }
      ]
    },
    {
      "cell_type": "markdown",
      "metadata": {
        "colab_type": "text",
        "id": "cuRIMzC-CYx-"
      },
      "source": [
        "# Part I: Autograd\n",
        "\n",
        "Automatic differentiation is one of important developments that allowed machine learning to become computationally feasible and thus widespread. This is one of the clearest and most helpful explanations of automatic differentiation I've encountered: http://colah.github.io/posts/2015-08-Backprop/\n",
        "\n",
        "Some things to note for the purposes of autograd here:\n",
        "- variables keep track of what operation produced them and a computation graph of these operations is recorded (variables generated by operations are generally ones which are transformations of earlier inputs and w/r/t which they have partial derivatives which you want to use later)\n",
        "- reverse-mode differentiation computes the value of $\\frac{\\partial \\text{ output}}{\\partial \\text{node}}$ for each node in the graph\n",
        "- this partial derivative corresponds to the influence of a given node on the output in question\n",
        "- when we call ```backward()```, we are causing all of the contributing partial derivatives to be computed\n",
        "- the influence of a given node on the output depends only on its influence on its child nodes, which have already been computed (n.b. if this sounds a lot like dynamic programming, that's because it is - see blog post linked above)"
      ]
    },
    {
      "cell_type": "code",
      "metadata": {
        "colab_type": "code",
        "id": "gb2LWPSACqiS",
        "colab": {
          "base_uri": "https://localhost:8080/",
          "height": 37
        },
        "outputId": "bc7eac50-4cbf-4620-9470-73058eabaff3"
      },
      "source": [
        "A = torch.rand(2, 2, requires_grad=True)\n",
        "b = torch.rand(2, requires_grad=True)\n",
        "x = torch.rand(2, requires_grad=True)\n",
        "\n",
        "y = torch.matmul(A, x) + b\n",
        "y"
      ],
      "execution_count": 3,
      "outputs": [
        {
          "output_type": "execute_result",
          "data": {
            "text/plain": [
              "tensor([0.5518, 0.7431], grad_fn=<AddBackward0>)"
            ]
          },
          "metadata": {
            "tags": []
          },
          "execution_count": 3
        }
      ]
    },
    {
      "cell_type": "code",
      "metadata": {
        "id": "jrm2KETlLxlv",
        "colab_type": "code",
        "colab": {
          "base_uri": "https://localhost:8080/",
          "height": 57
        },
        "outputId": "8e32814a-2a6f-4b5e-c08c-6b23fea3cfaf"
      },
      "source": [
        "w = x * torch.rand(2, requires_grad=True)\n",
        "z = w.sum()\n",
        "print(z)\n",
        "\n",
        "z.backward()\n",
        "print(x.grad)"
      ],
      "execution_count": 4,
      "outputs": [
        {
          "output_type": "stream",
          "text": [
            "tensor(0.4342, grad_fn=<SumBackward0>)\n",
            "tensor([0.6444, 0.1550])\n"
          ],
          "name": "stdout"
        }
      ]
    },
    {
      "cell_type": "code",
      "metadata": {
        "id": "JYtGM_L0VUH3",
        "colab_type": "code",
        "colab": {
          "base_uri": "https://localhost:8080/",
          "height": 97
        },
        "outputId": "2b783924-4591-46a9-e6fd-4dd0b18e3e5a"
      },
      "source": [
        "print(w.grad)"
      ],
      "execution_count": 5,
      "outputs": [
        {
          "output_type": "stream",
          "text": [
            "None\n"
          ],
          "name": "stdout"
        },
        {
          "output_type": "stream",
          "text": [
            "/usr/local/lib/python3.6/dist-packages/ipykernel_launcher.py:1: UserWarning: The .grad attribute of a Tensor that is not a leaf Tensor is being accessed. Its .grad attribute won't be populated during autograd.backward(). If you indeed want the gradient for a non-leaf Tensor, use .retain_grad() on the non-leaf Tensor. If you access the non-leaf Tensor by mistake, make sure you access the leaf Tensor instead. See github.com/pytorch/pytorch/pull/30531 for more informations.\n",
            "  \"\"\"Entry point for launching an IPython kernel.\n"
          ],
          "name": "stderr"
        }
      ]
    },
    {
      "cell_type": "code",
      "metadata": {
        "id": "ViZ7YI6DV7FC",
        "colab_type": "code",
        "colab": {
          "base_uri": "https://localhost:8080/",
          "height": 37
        },
        "outputId": "67de538c-bb74-4101-b0f3-bb417b0f75f2"
      },
      "source": [
        "print(w.retain_grad)"
      ],
      "execution_count": 6,
      "outputs": [
        {
          "output_type": "stream",
          "text": [
            "<bound method Tensor.retain_grad of tensor([0.4035, 0.0307], grad_fn=<MulBackward0>)>\n"
          ],
          "name": "stdout"
        }
      ]
    },
    {
      "cell_type": "code",
      "metadata": {
        "id": "5m-4G9jrWaZp",
        "colab_type": "code",
        "colab": {
          "base_uri": "https://localhost:8080/",
          "height": 136
        },
        "outputId": "76bb1801-1cb6-4525-c415-0ed003ebba28"
      },
      "source": [
        "print(y.grad_fn.next_functions[1][0].variable)\n",
        "print(b)\n",
        "print(y.grad_fn.next_functions[0][0].next_functions[0][0].variable)\n",
        "print(A)"
      ],
      "execution_count": 7,
      "outputs": [
        {
          "output_type": "stream",
          "text": [
            "tensor([0.3628, 0.5152], requires_grad=True)\n",
            "tensor([0.3628, 0.5152], requires_grad=True)\n",
            "tensor([[0.0142, 0.9098],\n",
            "        [0.0976, 0.8420]], requires_grad=True)\n",
            "tensor([[0.0142, 0.9098],\n",
            "        [0.0976, 0.8420]], requires_grad=True)\n"
          ],
          "name": "stdout"
        }
      ]
    },
    {
      "cell_type": "code",
      "metadata": {
        "id": "rM1AW0EvVdZb",
        "colab_type": "code",
        "colab": {
          "base_uri": "https://localhost:8080/",
          "height": 249
        },
        "outputId": "4c7f3f4e-1985-4391-d0d5-9e618a47b636"
      },
      "source": [
        "make_dot(y)"
      ],
      "execution_count": 8,
      "outputs": [
        {
          "output_type": "execute_result",
          "data": {
            "text/plain": [
              "<graphviz.dot.Digraph at 0x7f315ae1e5f8>"
            ],
            "image/svg+xml": "<?xml version=\"1.0\" encoding=\"UTF-8\" standalone=\"no\"?>\n<!DOCTYPE svg PUBLIC \"-//W3C//DTD SVG 1.1//EN\"\n \"http://www.w3.org/Graphics/SVG/1.1/DTD/svg11.dtd\">\n<!-- Generated by graphviz version 2.40.1 (20161225.0304)\n -->\n<!-- Title: %3 Pages: 1 -->\n<svg width=\"184pt\" height=\"171pt\"\n viewBox=\"0.00 0.00 184.00 171.00\" xmlns=\"http://www.w3.org/2000/svg\" xmlns:xlink=\"http://www.w3.org/1999/xlink\">\n<g id=\"graph0\" class=\"graph\" transform=\"scale(1 1) rotate(0) translate(4 167)\">\n<title>%3</title>\n<polygon fill=\"#ffffff\" stroke=\"transparent\" points=\"-4,4 -4,-167 180,-167 180,4 -4,4\"/>\n<!-- 139849954879808 -->\n<g id=\"node1\" class=\"node\">\n<title>139849954879808</title>\n<polygon fill=\"#caff70\" stroke=\"#000000\" points=\"152,-21 60,-21 60,0 152,0 152,-21\"/>\n<text text-anchor=\"middle\" x=\"106\" y=\"-7.4\" font-family=\"Times,serif\" font-size=\"12.00\" fill=\"#000000\">AddBackward0</text>\n</g>\n<!-- 139849954878408 -->\n<g id=\"node2\" class=\"node\">\n<title>139849954878408</title>\n<polygon fill=\"#d3d3d3\" stroke=\"#000000\" points=\"104,-85 22,-85 22,-64 104,-64 104,-85\"/>\n<text text-anchor=\"middle\" x=\"63\" y=\"-71.4\" font-family=\"Times,serif\" font-size=\"12.00\" fill=\"#000000\">MvBackward</text>\n</g>\n<!-- 139849954878408&#45;&gt;139849954879808 -->\n<g id=\"edge1\" class=\"edge\">\n<title>139849954878408&#45;&gt;139849954879808</title>\n<path fill=\"none\" stroke=\"#000000\" d=\"M70.1006,-63.9317C76.3496,-54.6309 85.6021,-40.8597 93.1487,-29.6276\"/>\n<polygon fill=\"#000000\" stroke=\"#000000\" points=\"96.0734,-31.5504 98.7452,-21.2979 90.263,-27.6465 96.0734,-31.5504\"/>\n</g>\n<!-- 139850198075152 -->\n<g id=\"node3\" class=\"node\">\n<title>139850198075152</title>\n<polygon fill=\"#add8e6\" stroke=\"#000000\" points=\"54,-163 0,-163 0,-128 54,-128 54,-163\"/>\n<text text-anchor=\"middle\" x=\"27\" y=\"-135.4\" font-family=\"Times,serif\" font-size=\"12.00\" fill=\"#000000\"> (2, 2)</text>\n</g>\n<!-- 139850198075152&#45;&gt;139849954878408 -->\n<g id=\"edge2\" class=\"edge\">\n<title>139850198075152&#45;&gt;139849954878408</title>\n<path fill=\"none\" stroke=\"#000000\" d=\"M35.8989,-127.9494C41.1277,-117.6371 47.747,-104.5824 53.1348,-93.9563\"/>\n<polygon fill=\"#000000\" stroke=\"#000000\" points=\"56.2607,-95.5307 57.6614,-85.0288 50.0174,-92.365 56.2607,-95.5307\"/>\n</g>\n<!-- 139848698538584 -->\n<g id=\"node4\" class=\"node\">\n<title>139848698538584</title>\n<polygon fill=\"#add8e6\" stroke=\"#000000\" points=\"126,-163 72,-163 72,-128 126,-128 126,-163\"/>\n<text text-anchor=\"middle\" x=\"99\" y=\"-135.4\" font-family=\"Times,serif\" font-size=\"12.00\" fill=\"#000000\"> (2)</text>\n</g>\n<!-- 139848698538584&#45;&gt;139849954878408 -->\n<g id=\"edge3\" class=\"edge\">\n<title>139848698538584&#45;&gt;139849954878408</title>\n<path fill=\"none\" stroke=\"#000000\" d=\"M90.1011,-127.9494C84.8723,-117.6371 78.253,-104.5824 72.8652,-93.9563\"/>\n<polygon fill=\"#000000\" stroke=\"#000000\" points=\"75.9826,-92.365 68.3386,-85.0288 69.7393,-95.5307 75.9826,-92.365\"/>\n</g>\n<!-- 139849954879640 -->\n<g id=\"node5\" class=\"node\">\n<title>139849954879640</title>\n<polygon fill=\"#add8e6\" stroke=\"#000000\" points=\"176,-92 122,-92 122,-57 176,-57 176,-92\"/>\n<text text-anchor=\"middle\" x=\"149\" y=\"-64.4\" font-family=\"Times,serif\" font-size=\"12.00\" fill=\"#000000\"> (2)</text>\n</g>\n<!-- 139849954879640&#45;&gt;139849954879808 -->\n<g id=\"edge4\" class=\"edge\">\n<title>139849954879640&#45;&gt;139849954879808</title>\n<path fill=\"none\" stroke=\"#000000\" d=\"M137.0221,-56.6724C131.4013,-48.3066 124.6923,-38.3212 118.9537,-29.7799\"/>\n<polygon fill=\"#000000\" stroke=\"#000000\" points=\"121.6869,-27.572 113.2048,-21.2234 115.8766,-31.4759 121.6869,-27.572\"/>\n</g>\n</g>\n</svg>\n"
          },
          "metadata": {
            "tags": []
          },
          "execution_count": 8
        }
      ]
    },
    {
      "cell_type": "code",
      "metadata": {
        "id": "nbsu6oXRvtPv",
        "colab_type": "code",
        "colab": {
          "base_uri": "https://localhost:8080/",
          "height": 37
        },
        "outputId": "0aa0b3f2-0411-4c67-f9a3-7b9047de5a28"
      },
      "source": [
        "# Let's apply a layer module to x:\n",
        "W = torch.nn.Linear(2, 1)\n",
        "y_hat = W(x)\n",
        "y_hat"
      ],
      "execution_count": 9,
      "outputs": [
        {
          "output_type": "execute_result",
          "data": {
            "text/plain": [
              "tensor([-0.1409], grad_fn=<AddBackward0>)"
            ]
          },
          "metadata": {
            "tags": []
          },
          "execution_count": 9
        }
      ]
    },
    {
      "cell_type": "code",
      "metadata": {
        "id": "avVlx5883CNF",
        "colab_type": "code",
        "colab": {
          "base_uri": "https://localhost:8080/",
          "height": 57
        },
        "outputId": "7f268a3a-383b-423d-e329-cdf125125d48"
      },
      "source": [
        "print(W.weight.shape)\n",
        "print(W.bias.shape)"
      ],
      "execution_count": 10,
      "outputs": [
        {
          "output_type": "stream",
          "text": [
            "torch.Size([1, 2])\n",
            "torch.Size([1])\n"
          ],
          "name": "stdout"
        }
      ]
    },
    {
      "cell_type": "code",
      "metadata": {
        "id": "XgRSiueJ3gg5",
        "colab_type": "code",
        "colab": {
          "base_uri": "https://localhost:8080/",
          "height": 37
        },
        "outputId": "a2da9052-9ba6-4d15-92a6-55f79b8f4338"
      },
      "source": [
        "# stating the action of the layer explicitly:\n",
        "y = torch.matmul(x, W.weight.T) + W.bias\n",
        "y"
      ],
      "execution_count": 11,
      "outputs": [
        {
          "output_type": "execute_result",
          "data": {
            "text/plain": [
              "tensor([-0.1409], grad_fn=<AddBackward0>)"
            ]
          },
          "metadata": {
            "tags": []
          },
          "execution_count": 11
        }
      ]
    },
    {
      "cell_type": "markdown",
      "metadata": {
        "id": "Rmdb7c3Ra8Dh",
        "colab_type": "text"
      },
      "source": [
        "y and y_hat have the same computation graph structure (although specifically one uses a permute operation rather than transpose to achieve the same rearrangement):"
      ]
    },
    {
      "cell_type": "code",
      "metadata": {
        "id": "VqZCfoSoNGxc",
        "colab_type": "code",
        "colab": {
          "base_uri": "https://localhost:8080/",
          "height": 77
        },
        "outputId": "6ccba05b-4894-434a-efe1-10248443dfc7"
      },
      "source": [
        " print(y_hat.grad_fn.next_functions)\n",
        " print(y_hat.grad_fn.next_functions[0][0].next_functions)\n",
        " print(y_hat.grad_fn.next_functions[0][0].next_functions[0][0].next_functions)"
      ],
      "execution_count": 12,
      "outputs": [
        {
          "output_type": "stream",
          "text": [
            "((<SqueezeBackward3 object at 0x7f310fffaf98>, 0), (<AccumulateGrad object at 0x7f310fffafd0>, 0))\n",
            "((<MmBackward object at 0x7f310fffafd0>, 0),)\n",
            "((<UnsqueezeBackward0 object at 0x7f310fffaef0>, 0), (<TBackward object at 0x7f310fffaf98>, 0))\n"
          ],
          "name": "stdout"
        }
      ]
    },
    {
      "cell_type": "code",
      "metadata": {
        "id": "5SRQj95hO2DN",
        "colab_type": "code",
        "colab": {
          "base_uri": "https://localhost:8080/",
          "height": 57
        },
        "outputId": "69f58a74-9328-4ca2-ecff-f35105a9b99e"
      },
      "source": [
        " print(y_hat.grad_fn.next_functions[0][0].next_functions[0][0].next_functions[0][0].next_functions[0][0].variable)\n",
        " print(y.grad_fn.next_functions[0][0].next_functions[0][0].next_functions[0][0].next_functions[0][0].variable)"
      ],
      "execution_count": 13,
      "outputs": [
        {
          "output_type": "stream",
          "text": [
            "tensor([0.6262, 0.1980], requires_grad=True)\n",
            "tensor([0.6262, 0.1980], requires_grad=True)\n"
          ],
          "name": "stdout"
        }
      ]
    },
    {
      "cell_type": "code",
      "metadata": {
        "id": "I6zHRlNTO9sV",
        "colab_type": "code",
        "colab": {
          "base_uri": "https://localhost:8080/",
          "height": 37
        },
        "outputId": "7b7f614a-ecac-49bc-887a-47a920f6650b"
      },
      "source": [
        "print(x)"
      ],
      "execution_count": 14,
      "outputs": [
        {
          "output_type": "stream",
          "text": [
            "tensor([0.6262, 0.1980], requires_grad=True)\n"
          ],
          "name": "stdout"
        }
      ]
    },
    {
      "cell_type": "code",
      "metadata": {
        "id": "R8uzxPEiz0_Q",
        "colab_type": "code",
        "colab": {
          "base_uri": "https://localhost:8080/",
          "height": 401
        },
        "outputId": "ddbbb5e3-4c85-4720-cd98-4c550d4f8c59"
      },
      "source": [
        "make_dot(y)"
      ],
      "execution_count": 15,
      "outputs": [
        {
          "output_type": "execute_result",
          "data": {
            "text/plain": [
              "<graphviz.dot.Digraph at 0x7f310fffa4e0>"
            ],
            "image/svg+xml": "<?xml version=\"1.0\" encoding=\"UTF-8\" standalone=\"no\"?>\n<!DOCTYPE svg PUBLIC \"-//W3C//DTD SVG 1.1//EN\"\n \"http://www.w3.org/Graphics/SVG/1.1/DTD/svg11.dtd\">\n<!-- Generated by graphviz version 2.40.1 (20161225.0304)\n -->\n<!-- Title: %3 Pages: 1 -->\n<svg width=\"264pt\" height=\"285pt\"\n viewBox=\"0.00 0.00 264.00 285.00\" xmlns=\"http://www.w3.org/2000/svg\" xmlns:xlink=\"http://www.w3.org/1999/xlink\">\n<g id=\"graph0\" class=\"graph\" transform=\"scale(1 1) rotate(0) translate(4 281)\">\n<title>%3</title>\n<polygon fill=\"#ffffff\" stroke=\"transparent\" points=\"-4,4 -4,-281 260,-281 260,4 -4,4\"/>\n<!-- 139848698537296 -->\n<g id=\"node1\" class=\"node\">\n<title>139848698537296</title>\n<polygon fill=\"#caff70\" stroke=\"#000000\" points=\"224,-21 132,-21 132,0 224,0 224,-21\"/>\n<text text-anchor=\"middle\" x=\"178\" y=\"-7.4\" font-family=\"Times,serif\" font-size=\"12.00\" fill=\"#000000\">AddBackward0</text>\n</g>\n<!-- 139848698536960 -->\n<g id=\"node2\" class=\"node\">\n<title>139848698536960</title>\n<polygon fill=\"#d3d3d3\" stroke=\"#000000\" points=\"183.5,-85 72.5,-85 72.5,-64 183.5,-64 183.5,-85\"/>\n<text text-anchor=\"middle\" x=\"128\" y=\"-71.4\" font-family=\"Times,serif\" font-size=\"12.00\" fill=\"#000000\">SqueezeBackward3</text>\n</g>\n<!-- 139848698536960&#45;&gt;139848698537296 -->\n<g id=\"edge1\" class=\"edge\">\n<title>139848698536960&#45;&gt;139848698537296</title>\n<path fill=\"none\" stroke=\"#000000\" d=\"M136.2565,-63.9317C143.5947,-54.5388 154.4949,-40.5865 163.3166,-29.2947\"/>\n<polygon fill=\"#000000\" stroke=\"#000000\" points=\"166.1657,-31.3329 169.5641,-21.2979 160.6496,-27.0234 166.1657,-31.3329\"/>\n</g>\n<!-- 139848698538864 -->\n<g id=\"node3\" class=\"node\">\n<title>139848698538864</title>\n<polygon fill=\"#d3d3d3\" stroke=\"#000000\" points=\"170.5,-149 85.5,-149 85.5,-128 170.5,-128 170.5,-149\"/>\n<text text-anchor=\"middle\" x=\"128\" y=\"-135.4\" font-family=\"Times,serif\" font-size=\"12.00\" fill=\"#000000\">MmBackward</text>\n</g>\n<!-- 139848698538864&#45;&gt;139848698536960 -->\n<g id=\"edge2\" class=\"edge\">\n<title>139848698538864&#45;&gt;139848698536960</title>\n<path fill=\"none\" stroke=\"#000000\" d=\"M128,-127.9317C128,-119.0913 128,-106.2122 128,-95.3135\"/>\n<polygon fill=\"#000000\" stroke=\"#000000\" points=\"131.5001,-95.2979 128,-85.2979 124.5001,-95.2979 131.5001,-95.2979\"/>\n</g>\n<!-- 139848698537128 -->\n<g id=\"node4\" class=\"node\">\n<title>139848698537128</title>\n<polygon fill=\"#d3d3d3\" stroke=\"#000000\" points=\"124,-206 0,-206 0,-185 124,-185 124,-206\"/>\n<text text-anchor=\"middle\" x=\"62\" y=\"-192.4\" font-family=\"Times,serif\" font-size=\"12.00\" fill=\"#000000\">UnsqueezeBackward0</text>\n</g>\n<!-- 139848698537128&#45;&gt;139848698538864 -->\n<g id=\"edge3\" class=\"edge\">\n<title>139848698537128&#45;&gt;139848698538864</title>\n<path fill=\"none\" stroke=\"#000000\" d=\"M74.4141,-184.7787C83.817,-176.658 96.9326,-165.3309 107.8345,-155.9157\"/>\n<polygon fill=\"#000000\" stroke=\"#000000\" points=\"110.361,-158.3583 115.6416,-149.1732 105.7856,-153.0605 110.361,-158.3583\"/>\n</g>\n<!-- 139848698538584 -->\n<g id=\"node5\" class=\"node\">\n<title>139848698538584</title>\n<polygon fill=\"#add8e6\" stroke=\"#000000\" points=\"89,-277 35,-277 35,-242 89,-242 89,-277\"/>\n<text text-anchor=\"middle\" x=\"62\" y=\"-249.4\" font-family=\"Times,serif\" font-size=\"12.00\" fill=\"#000000\"> (2)</text>\n</g>\n<!-- 139848698538584&#45;&gt;139848698537128 -->\n<g id=\"edge4\" class=\"edge\">\n<title>139848698538584&#45;&gt;139848698537128</title>\n<path fill=\"none\" stroke=\"#000000\" d=\"M62,-241.6724C62,-233.8405 62,-224.5893 62,-216.4323\"/>\n<polygon fill=\"#000000\" stroke=\"#000000\" points=\"65.5001,-216.2234 62,-206.2234 58.5001,-216.2235 65.5001,-216.2234\"/>\n</g>\n<!-- 139848698539592 -->\n<g id=\"node6\" class=\"node\">\n<title>139848698539592</title>\n<polygon fill=\"#d3d3d3\" stroke=\"#000000\" points=\"246,-206 142,-206 142,-185 246,-185 246,-206\"/>\n<text text-anchor=\"middle\" x=\"194\" y=\"-192.4\" font-family=\"Times,serif\" font-size=\"12.00\" fill=\"#000000\">PermuteBackward</text>\n</g>\n<!-- 139848698539592&#45;&gt;139848698538864 -->\n<g id=\"edge5\" class=\"edge\">\n<title>139848698539592&#45;&gt;139848698538864</title>\n<path fill=\"none\" stroke=\"#000000\" d=\"M181.5859,-184.7787C172.183,-176.658 159.0674,-165.3309 148.1655,-155.9157\"/>\n<polygon fill=\"#000000\" stroke=\"#000000\" points=\"150.2144,-153.0605 140.3584,-149.1732 145.639,-158.3583 150.2144,-153.0605\"/>\n</g>\n<!-- 139848698536904 -->\n<g id=\"node7\" class=\"node\">\n<title>139848698536904</title>\n<polygon fill=\"#add8e6\" stroke=\"#000000\" points=\"221,-277 167,-277 167,-242 221,-242 221,-277\"/>\n<text text-anchor=\"middle\" x=\"194\" y=\"-249.4\" font-family=\"Times,serif\" font-size=\"12.00\" fill=\"#000000\"> (1, 2)</text>\n</g>\n<!-- 139848698536904&#45;&gt;139848698539592 -->\n<g id=\"edge6\" class=\"edge\">\n<title>139848698536904&#45;&gt;139848698539592</title>\n<path fill=\"none\" stroke=\"#000000\" d=\"M194,-241.6724C194,-233.8405 194,-224.5893 194,-216.4323\"/>\n<polygon fill=\"#000000\" stroke=\"#000000\" points=\"197.5001,-216.2234 194,-206.2234 190.5001,-216.2235 197.5001,-216.2234\"/>\n</g>\n<!-- 139848698539872 -->\n<g id=\"node8\" class=\"node\">\n<title>139848698539872</title>\n<polygon fill=\"#add8e6\" stroke=\"#000000\" points=\"256,-92 202,-92 202,-57 256,-57 256,-92\"/>\n<text text-anchor=\"middle\" x=\"229\" y=\"-64.4\" font-family=\"Times,serif\" font-size=\"12.00\" fill=\"#000000\"> (1)</text>\n</g>\n<!-- 139848698539872&#45;&gt;139848698537296 -->\n<g id=\"edge7\" class=\"edge\">\n<title>139848698539872&#45;&gt;139848698537296</title>\n<path fill=\"none\" stroke=\"#000000\" d=\"M214.7937,-56.6724C207.9853,-48.1286 199.8308,-37.8955 192.9308,-29.2367\"/>\n<polygon fill=\"#000000\" stroke=\"#000000\" points=\"195.5145,-26.8628 186.5452,-21.2234 190.0401,-31.2253 195.5145,-26.8628\"/>\n</g>\n</g>\n</svg>\n"
          },
          "metadata": {
            "tags": []
          },
          "execution_count": 15
        }
      ]
    },
    {
      "cell_type": "code",
      "metadata": {
        "id": "RBWcrPqNz3-S",
        "colab_type": "code",
        "colab": {
          "base_uri": "https://localhost:8080/",
          "height": 401
        },
        "outputId": "78554eee-cfc6-4bbc-f9bd-a76347a1d43e"
      },
      "source": [
        "make_dot(y_hat)"
      ],
      "execution_count": 16,
      "outputs": [
        {
          "output_type": "execute_result",
          "data": {
            "text/plain": [
              "<graphviz.dot.Digraph at 0x7f310fffa278>"
            ],
            "image/svg+xml": "<?xml version=\"1.0\" encoding=\"UTF-8\" standalone=\"no\"?>\n<!DOCTYPE svg PUBLIC \"-//W3C//DTD SVG 1.1//EN\"\n \"http://www.w3.org/Graphics/SVG/1.1/DTD/svg11.dtd\">\n<!-- Generated by graphviz version 2.40.1 (20161225.0304)\n -->\n<!-- Title: %3 Pages: 1 -->\n<svg width=\"256pt\" height=\"285pt\"\n viewBox=\"0.00 0.00 256.00 285.00\" xmlns=\"http://www.w3.org/2000/svg\" xmlns:xlink=\"http://www.w3.org/1999/xlink\">\n<g id=\"graph0\" class=\"graph\" transform=\"scale(1 1) rotate(0) translate(4 281)\">\n<title>%3</title>\n<polygon fill=\"#ffffff\" stroke=\"transparent\" points=\"-4,4 -4,-281 252,-281 252,4 -4,4\"/>\n<!-- 139848698537464 -->\n<g id=\"node1\" class=\"node\">\n<title>139848698537464</title>\n<polygon fill=\"#caff70\" stroke=\"#000000\" points=\"216,-21 124,-21 124,0 216,0 216,-21\"/>\n<text text-anchor=\"middle\" x=\"170\" y=\"-7.4\" font-family=\"Times,serif\" font-size=\"12.00\" fill=\"#000000\">AddBackward0</text>\n</g>\n<!-- 139848698537912 -->\n<g id=\"node2\" class=\"node\">\n<title>139848698537912</title>\n<polygon fill=\"#d3d3d3\" stroke=\"#000000\" points=\"175.5,-85 64.5,-85 64.5,-64 175.5,-64 175.5,-85\"/>\n<text text-anchor=\"middle\" x=\"120\" y=\"-71.4\" font-family=\"Times,serif\" font-size=\"12.00\" fill=\"#000000\">SqueezeBackward3</text>\n</g>\n<!-- 139848698537912&#45;&gt;139848698537464 -->\n<g id=\"edge1\" class=\"edge\">\n<title>139848698537912&#45;&gt;139848698537464</title>\n<path fill=\"none\" stroke=\"#000000\" d=\"M128.2565,-63.9317C135.5947,-54.5388 146.4949,-40.5865 155.3166,-29.2947\"/>\n<polygon fill=\"#000000\" stroke=\"#000000\" points=\"158.1657,-31.3329 161.5641,-21.2979 152.6496,-27.0234 158.1657,-31.3329\"/>\n</g>\n<!-- 139848698539144 -->\n<g id=\"node3\" class=\"node\">\n<title>139848698539144</title>\n<polygon fill=\"#d3d3d3\" stroke=\"#000000\" points=\"162.5,-149 77.5,-149 77.5,-128 162.5,-128 162.5,-149\"/>\n<text text-anchor=\"middle\" x=\"120\" y=\"-135.4\" font-family=\"Times,serif\" font-size=\"12.00\" fill=\"#000000\">MmBackward</text>\n</g>\n<!-- 139848698539144&#45;&gt;139848698537912 -->\n<g id=\"edge2\" class=\"edge\">\n<title>139848698539144&#45;&gt;139848698537912</title>\n<path fill=\"none\" stroke=\"#000000\" d=\"M120,-127.9317C120,-119.0913 120,-106.2122 120,-95.3135\"/>\n<polygon fill=\"#000000\" stroke=\"#000000\" points=\"123.5001,-95.2979 120,-85.2979 116.5001,-95.2979 123.5001,-95.2979\"/>\n</g>\n<!-- 139848698537632 -->\n<g id=\"node4\" class=\"node\">\n<title>139848698537632</title>\n<polygon fill=\"#d3d3d3\" stroke=\"#000000\" points=\"124,-206 0,-206 0,-185 124,-185 124,-206\"/>\n<text text-anchor=\"middle\" x=\"62\" y=\"-192.4\" font-family=\"Times,serif\" font-size=\"12.00\" fill=\"#000000\">UnsqueezeBackward0</text>\n</g>\n<!-- 139848698537632&#45;&gt;139848698539144 -->\n<g id=\"edge3\" class=\"edge\">\n<title>139848698537632&#45;&gt;139848698539144</title>\n<path fill=\"none\" stroke=\"#000000\" d=\"M72.9094,-184.7787C81.0915,-176.7376 92.4727,-165.5527 101.9965,-156.1931\"/>\n<polygon fill=\"#000000\" stroke=\"#000000\" points=\"104.4605,-158.6788 109.1396,-149.1732 99.554,-153.6862 104.4605,-158.6788\"/>\n</g>\n<!-- 139848698538584 -->\n<g id=\"node5\" class=\"node\">\n<title>139848698538584</title>\n<polygon fill=\"#add8e6\" stroke=\"#000000\" points=\"89,-277 35,-277 35,-242 89,-242 89,-277\"/>\n<text text-anchor=\"middle\" x=\"62\" y=\"-249.4\" font-family=\"Times,serif\" font-size=\"12.00\" fill=\"#000000\"> (2)</text>\n</g>\n<!-- 139848698538584&#45;&gt;139848698537632 -->\n<g id=\"edge4\" class=\"edge\">\n<title>139848698538584&#45;&gt;139848698537632</title>\n<path fill=\"none\" stroke=\"#000000\" d=\"M62,-241.6724C62,-233.8405 62,-224.5893 62,-216.4323\"/>\n<polygon fill=\"#000000\" stroke=\"#000000\" points=\"65.5001,-216.2234 62,-206.2234 58.5001,-216.2235 65.5001,-216.2234\"/>\n</g>\n<!-- 139848698537968 -->\n<g id=\"node6\" class=\"node\">\n<title>139848698537968</title>\n<polygon fill=\"#d3d3d3\" stroke=\"#000000\" points=\"215.5,-206 142.5,-206 142.5,-185 215.5,-185 215.5,-206\"/>\n<text text-anchor=\"middle\" x=\"179\" y=\"-192.4\" font-family=\"Times,serif\" font-size=\"12.00\" fill=\"#000000\">TBackward</text>\n</g>\n<!-- 139848698537968&#45;&gt;139848698539144 -->\n<g id=\"edge5\" class=\"edge\">\n<title>139848698537968&#45;&gt;139848698539144</title>\n<path fill=\"none\" stroke=\"#000000\" d=\"M167.9026,-184.7787C159.5793,-176.7376 148.0019,-165.5527 138.3139,-156.1931\"/>\n<polygon fill=\"#000000\" stroke=\"#000000\" points=\"140.6715,-153.6042 131.0477,-149.1732 135.8078,-158.6385 140.6715,-153.6042\"/>\n</g>\n<!-- 139848698536904 -->\n<g id=\"node7\" class=\"node\">\n<title>139848698536904</title>\n<polygon fill=\"#add8e6\" stroke=\"#000000\" points=\"206,-277 152,-277 152,-242 206,-242 206,-277\"/>\n<text text-anchor=\"middle\" x=\"179\" y=\"-249.4\" font-family=\"Times,serif\" font-size=\"12.00\" fill=\"#000000\"> (1, 2)</text>\n</g>\n<!-- 139848698536904&#45;&gt;139848698537968 -->\n<g id=\"edge6\" class=\"edge\">\n<title>139848698536904&#45;&gt;139848698537968</title>\n<path fill=\"none\" stroke=\"#000000\" d=\"M179,-241.6724C179,-233.8405 179,-224.5893 179,-216.4323\"/>\n<polygon fill=\"#000000\" stroke=\"#000000\" points=\"182.5001,-216.2234 179,-206.2234 175.5001,-216.2235 182.5001,-216.2234\"/>\n</g>\n<!-- 139848698539872 -->\n<g id=\"node8\" class=\"node\">\n<title>139848698539872</title>\n<polygon fill=\"#add8e6\" stroke=\"#000000\" points=\"248,-92 194,-92 194,-57 248,-57 248,-92\"/>\n<text text-anchor=\"middle\" x=\"221\" y=\"-64.4\" font-family=\"Times,serif\" font-size=\"12.00\" fill=\"#000000\"> (1)</text>\n</g>\n<!-- 139848698539872&#45;&gt;139848698537464 -->\n<g id=\"edge7\" class=\"edge\">\n<title>139848698539872&#45;&gt;139848698537464</title>\n<path fill=\"none\" stroke=\"#000000\" d=\"M206.7937,-56.6724C199.9853,-48.1286 191.8308,-37.8955 184.9308,-29.2367\"/>\n<polygon fill=\"#000000\" stroke=\"#000000\" points=\"187.5145,-26.8628 178.5452,-21.2234 182.0401,-31.2253 187.5145,-26.8628\"/>\n</g>\n</g>\n</svg>\n"
          },
          "metadata": {
            "tags": []
          },
          "execution_count": 16
        }
      ]
    },
    {
      "cell_type": "code",
      "metadata": {
        "id": "cyofHL_lNQbV",
        "colab_type": "code",
        "colab": {
          "base_uri": "https://localhost:8080/",
          "height": 37
        },
        "outputId": "7b716963-1247-48ef-8cb8-dab31a857382"
      },
      "source": [
        "print(W.weight.grad) # weights have no gradients yet..."
      ],
      "execution_count": 17,
      "outputs": [
        {
          "output_type": "stream",
          "text": [
            "None\n"
          ],
          "name": "stdout"
        }
      ]
    },
    {
      "cell_type": "code",
      "metadata": {
        "id": "O_FSWNAn9Vz1",
        "colab_type": "code",
        "colab": {}
      },
      "source": [
        "y_hat.backward() #...until we call backward()"
      ],
      "execution_count": 18,
      "outputs": []
    },
    {
      "cell_type": "code",
      "metadata": {
        "id": "xDjPZeKn6yK0",
        "colab_type": "code",
        "colab": {
          "base_uri": "https://localhost:8080/",
          "height": 37
        },
        "outputId": "9ad93dc6-b0c3-4902-ee5e-866e2378f8d7"
      },
      "source": [
        "print(W.weight.grad)"
      ],
      "execution_count": 19,
      "outputs": [
        {
          "output_type": "stream",
          "text": [
            "tensor([[0.6262, 0.1980]])\n"
          ],
          "name": "stdout"
        }
      ]
    },
    {
      "cell_type": "markdown",
      "metadata": {
        "id": "7uvLM2sxbJCu",
        "colab_type": "text"
      },
      "source": [
        "# Part II: Using a dataset"
      ]
    },
    {
      "cell_type": "code",
      "metadata": {
        "colab_type": "code",
        "id": "qMb0WQthE2vR",
        "colab": {
          "base_uri": "https://localhost:8080/",
          "height": 443,
          "referenced_widgets": [
            "a969752204e44a909655131361fded56",
            "7e8914564d5c4f799768bab488da70f4",
            "d09c904766aa49f8b16ed1398a39f730",
            "f4bec454f7c14aceb95f649afdf360a6",
            "a91684e963904a24aec67eafcf7e929e",
            "e9fbab9031c64def9085cedc057164d6",
            "8cc2baf68dda41cdbfa64dc83dd37d7c",
            "8eb20d28888b4673804ca9fd5a24c9a6",
            "d3a43f05cb854102949ddc5309f2b0cf",
            "150ecd8c57ef4273891c8a3cecbf48af",
            "28c3bf71982241228bcd834d7caa739f",
            "aeb463c53d17410593355a2224df0afc",
            "390dbcae96474219a85a61a3188bfe5a",
            "1fe5bb2bf4e141b1b4920009b59cadd4",
            "605148ac7f7848c7914fc885ec2091d3",
            "e6f53d2c869d41cca63678e2ba7506d0",
            "aedf12c0a9324d9abd8cf391cf7ec540",
            "bd26640e70f145f7abb16236434205f4",
            "e67aa0d897414e35beb4c438c8a9b7a3",
            "36dd55afb3394f01bed5fa64393f5a00",
            "9f2f41fc223b48179bcfb8cc0f70b339",
            "4ce33bd9df4449cb8bce6b906f5958e4",
            "246bd20cd37b455badc2a90e3cd2338a",
            "6a4ac0e8927c46af8ba066cd3cb8d39a",
            "7218e2afc8c44c8f8094330941639770",
            "ce68a991ac0f4328829db302a03bd0b3",
            "5de80e380e91473fbb88823230cb5367",
            "865fe0ed556147c896d21c05d5f00893",
            "354fab42535d4b03ac29f99cf615e960",
            "b2a302a1487345f28c87885160a8e550",
            "b3401b5d70ca464798e7951408483913",
            "b6e2857718cf491db18e2325a9dc2550"
          ]
        },
        "outputId": "cebb4f02-933b-48d3-ebef-ba39f714cf4b"
      },
      "source": [
        "trainingdata = torchvision.datasets.FashionMNIST('./FashionMNIST/',train=True,download=True,transform=torchvision.transforms.ToTensor())\n",
        "testdata = torchvision.datasets.FashionMNIST('./FashionMNIST/',train=False,download=True,transform=torchvision.transforms.ToTensor())"
      ],
      "execution_count": 20,
      "outputs": [
        {
          "output_type": "stream",
          "text": [
            "Downloading http://fashion-mnist.s3-website.eu-central-1.amazonaws.com/train-images-idx3-ubyte.gz to ./FashionMNIST/FashionMNIST/raw/train-images-idx3-ubyte.gz\n"
          ],
          "name": "stdout"
        },
        {
          "output_type": "display_data",
          "data": {
            "application/vnd.jupyter.widget-view+json": {
              "model_id": "a969752204e44a909655131361fded56",
              "version_minor": 0,
              "version_major": 2
            },
            "text/plain": [
              "HBox(children=(FloatProgress(value=1.0, bar_style='info', max=1.0), HTML(value='')))"
            ]
          },
          "metadata": {
            "tags": []
          }
        },
        {
          "output_type": "stream",
          "text": [
            "Extracting ./FashionMNIST/FashionMNIST/raw/train-images-idx3-ubyte.gz to ./FashionMNIST/FashionMNIST/raw\n",
            "Downloading http://fashion-mnist.s3-website.eu-central-1.amazonaws.com/train-labels-idx1-ubyte.gz to ./FashionMNIST/FashionMNIST/raw/train-labels-idx1-ubyte.gz\n"
          ],
          "name": "stdout"
        },
        {
          "output_type": "display_data",
          "data": {
            "application/vnd.jupyter.widget-view+json": {
              "model_id": "d3a43f05cb854102949ddc5309f2b0cf",
              "version_minor": 0,
              "version_major": 2
            },
            "text/plain": [
              "HBox(children=(FloatProgress(value=1.0, bar_style='info', max=1.0), HTML(value='')))"
            ]
          },
          "metadata": {
            "tags": []
          }
        },
        {
          "output_type": "stream",
          "text": [
            "Extracting ./FashionMNIST/FashionMNIST/raw/train-labels-idx1-ubyte.gz to ./FashionMNIST/FashionMNIST/raw\n",
            "Downloading http://fashion-mnist.s3-website.eu-central-1.amazonaws.com/t10k-images-idx3-ubyte.gz to ./FashionMNIST/FashionMNIST/raw/t10k-images-idx3-ubyte.gz\n"
          ],
          "name": "stdout"
        },
        {
          "output_type": "display_data",
          "data": {
            "application/vnd.jupyter.widget-view+json": {
              "model_id": "aedf12c0a9324d9abd8cf391cf7ec540",
              "version_minor": 0,
              "version_major": 2
            },
            "text/plain": [
              "HBox(children=(FloatProgress(value=1.0, bar_style='info', max=1.0), HTML(value='')))"
            ]
          },
          "metadata": {
            "tags": []
          }
        },
        {
          "output_type": "stream",
          "text": [
            "Extracting ./FashionMNIST/FashionMNIST/raw/t10k-images-idx3-ubyte.gz to ./FashionMNIST/FashionMNIST/raw\n",
            "Downloading http://fashion-mnist.s3-website.eu-central-1.amazonaws.com/t10k-labels-idx1-ubyte.gz to ./FashionMNIST/FashionMNIST/raw/t10k-labels-idx1-ubyte.gz\n",
            "\n",
            "\n"
          ],
          "name": "stdout"
        },
        {
          "output_type": "display_data",
          "data": {
            "application/vnd.jupyter.widget-view+json": {
              "model_id": "7218e2afc8c44c8f8094330941639770",
              "version_minor": 0,
              "version_major": 2
            },
            "text/plain": [
              "HBox(children=(FloatProgress(value=1.0, bar_style='info', max=1.0), HTML(value='')))"
            ]
          },
          "metadata": {
            "tags": []
          }
        },
        {
          "output_type": "stream",
          "text": [
            "Extracting ./FashionMNIST/FashionMNIST/raw/t10k-labels-idx1-ubyte.gz to ./FashionMNIST/FashionMNIST/raw\n",
            "Processing...\n",
            "Done!\n"
          ],
          "name": "stdout"
        },
        {
          "output_type": "stream",
          "text": [
            "/usr/local/lib/python3.6/dist-packages/torchvision/datasets/mnist.py:469: UserWarning: The given NumPy array is not writeable, and PyTorch does not support non-writeable tensors. This means you can write to the underlying (supposedly non-writeable) NumPy array using the tensor. You may want to copy the array to protect its data or make it writeable before converting it to a tensor. This type of warning will be suppressed for the rest of this program. (Triggered internally at  /pytorch/torch/csrc/utils/tensor_numpy.cpp:141.)\n",
            "  return torch.from_numpy(parsed.astype(m[2], copy=False)).view(*s)\n"
          ],
          "name": "stderr"
        }
      ]
    },
    {
      "cell_type": "code",
      "metadata": {
        "id": "VImzEkzu68Ze",
        "colab_type": "code",
        "colab": {}
      },
      "source": [
        "# let's try this first without using pinned memory\n",
        "pinned = False"
      ],
      "execution_count": 21,
      "outputs": []
    },
    {
      "cell_type": "code",
      "metadata": {
        "id": "RjyDWAScV7Wq",
        "colab_type": "code",
        "colab": {}
      },
      "source": [
        "trainDataLoader = torch.utils.data.DataLoader(trainingdata, batch_size=64, shuffle=True, pin_memory=pinned)\n",
        "images, labels = iter(trainDataLoader).next()"
      ],
      "execution_count": 22,
      "outputs": []
    },
    {
      "cell_type": "code",
      "metadata": {
        "colab_type": "code",
        "id": "qUI2KGrDJpRx",
        "colab": {}
      },
      "source": [
        "class LinearReg(torch.nn.Module):\n",
        "    def __init__(self):\n",
        "        super(LinearReg, self).__init__()\n",
        "        self.linear = torch.nn.Linear(28*28, 10)\n",
        "\n",
        "    def forward(self, x):\n",
        "        x = x.view(-1, 28*28)\n",
        "        transformed_x = self.linear(x) # n.b.: object-oriented API layers are \n",
        "        # themselves modules, so when the outer \"network\" module is called, \n",
        "        # this calls the self.forward() methods of its internal modules (layers)\n",
        "        # recursively\n",
        "        return transformed_x"
      ],
      "execution_count": 23,
      "outputs": []
    },
    {
      "cell_type": "code",
      "metadata": {
        "id": "AWZh0D-rZuUz",
        "colab_type": "code",
        "colab": {}
      },
      "source": [
        "net = LinearReg().cuda()\n",
        "Loss = torch.nn.CrossEntropyLoss()\n",
        "optimizer = torch.optim.SGD(net.parameters(), lr=0.01)"
      ],
      "execution_count": 24,
      "outputs": []
    },
    {
      "cell_type": "code",
      "metadata": {
        "id": "nbwWUXgmFl7X",
        "colab_type": "code",
        "colab": {
          "base_uri": "https://localhost:8080/",
          "height": 57
        },
        "outputId": "2ab799eb-a1f9-4d95-a96f-a60abea2a77f"
      },
      "source": [
        "# the weights and biases in net's linear layer are gpu tensors\n",
        "print(net.linear.weight.device)\n",
        "print(net.linear.bias.device)"
      ],
      "execution_count": 25,
      "outputs": [
        {
          "output_type": "stream",
          "text": [
            "cuda:0\n",
            "cuda:0\n"
          ],
          "name": "stdout"
        }
      ]
    },
    {
      "cell_type": "code",
      "metadata": {
        "id": "oPbDAssf5tnw",
        "colab_type": "code",
        "colab": {
          "base_uri": "https://localhost:8080/",
          "height": 37
        },
        "outputId": "6d656598-5560-486d-aa36-ce5ff8120d64"
      },
      "source": [
        "# what device is images on?\n",
        "images.device"
      ],
      "execution_count": 26,
      "outputs": [
        {
          "output_type": "execute_result",
          "data": {
            "text/plain": [
              "device(type='cpu')"
            ]
          },
          "metadata": {
            "tags": []
          },
          "execution_count": 26
        }
      ]
    },
    {
      "cell_type": "code",
      "metadata": {
        "id": "XXnq7XbsHlDP",
        "colab_type": "code",
        "colab": {
          "base_uri": "https://localhost:8080/",
          "height": 37
        },
        "outputId": "0e0fa887-6e05-42f9-e206-4fe0e36f9e48"
      },
      "source": [
        "# labels?\n",
        "labels.device"
      ],
      "execution_count": 27,
      "outputs": [
        {
          "output_type": "execute_result",
          "data": {
            "text/plain": [
              "device(type='cpu')"
            ]
          },
          "metadata": {
            "tags": []
          },
          "execution_count": 27
        }
      ]
    },
    {
      "cell_type": "code",
      "metadata": {
        "id": "b7-Sk1k3tOwo",
        "colab_type": "code",
        "colab": {
          "base_uri": "https://localhost:8080/",
          "height": 37
        },
        "outputId": "476945a0-515a-47fa-9ea5-376ec8ffc926"
      },
      "source": [
        "# move labels to the gpu\n",
        "labels = labels.cuda()\n",
        "labels.device"
      ],
      "execution_count": 28,
      "outputs": [
        {
          "output_type": "execute_result",
          "data": {
            "text/plain": [
              "device(type='cuda', index=0)"
            ]
          },
          "metadata": {
            "tags": []
          },
          "execution_count": 28
        }
      ]
    },
    {
      "cell_type": "code",
      "metadata": {
        "id": "BzFITEclSgpy",
        "colab_type": "code",
        "colab": {}
      },
      "source": [
        "# let's see what happens when the input to the network is *not* on the gpu:\n",
        "out = net(images)\n",
        "\n",
        "# n.b. this has the same result as using the call method net(images)\n",
        "#out = net.forward(images)\n",
        "\n",
        "#out = net.linear(images.view(-1, 28*28)) # also same\n",
        "\n",
        "#out = net.linear.forward(images.view(-1, 28*28)) # also same"
      ],
      "execution_count": 29,
      "outputs": []
    },
    {
      "cell_type": "code",
      "metadata": {
        "id": "2_P8yfJo9YUP",
        "colab_type": "code",
        "colab": {
          "base_uri": "https://localhost:8080/",
          "height": 37
        },
        "outputId": "f6eb1bd4-8871-47f4-9536-59855b98f779"
      },
      "source": [
        "out.device # output tensor of the network on a cpu tensor is allocated on the gpu"
      ],
      "execution_count": 30,
      "outputs": [
        {
          "output_type": "execute_result",
          "data": {
            "text/plain": [
              "device(type='cuda', index=0)"
            ]
          },
          "metadata": {
            "tags": []
          },
          "execution_count": 30
        }
      ]
    },
    {
      "cell_type": "code",
      "metadata": {
        "id": "_vEGLmBBAqgr",
        "colab_type": "code",
        "colab": {
          "base_uri": "https://localhost:8080/",
          "height": 37
        },
        "outputId": "d13a1d35-0ff9-460b-ffcb-aab863029826"
      },
      "source": [
        "out.grad_fn # it has a grad function"
      ],
      "execution_count": 31,
      "outputs": [
        {
          "output_type": "execute_result",
          "data": {
            "text/plain": [
              "<AddmmBackward at 0x7f310c942da0>"
            ]
          },
          "metadata": {
            "tags": []
          },
          "execution_count": 31
        }
      ]
    },
    {
      "cell_type": "code",
      "metadata": {
        "id": "aeMaoUy3BQTB",
        "colab_type": "code",
        "colab": {}
      },
      "source": [
        "# We can assign transformations of it to variables\n",
        "out = out * 5 # fine, no memory access yet\n",
        "x = out**2 # also fine"
      ],
      "execution_count": 32,
      "outputs": []
    },
    {
      "cell_type": "code",
      "metadata": {
        "id": "xiKNeThQF4h0",
        "colab_type": "code",
        "colab": {
          "base_uri": "https://localhost:8080/",
          "height": 325
        },
        "outputId": "71ef29da-b624-4fdc-f1e2-84db53ec7306"
      },
      "source": [
        "make_dot(out)"
      ],
      "execution_count": 33,
      "outputs": [
        {
          "output_type": "execute_result",
          "data": {
            "text/plain": [
              "<graphviz.dot.Digraph at 0x7f310c942a90>"
            ],
            "image/svg+xml": "<?xml version=\"1.0\" encoding=\"UTF-8\" standalone=\"no\"?>\n<!DOCTYPE svg PUBLIC \"-//W3C//DTD SVG 1.1//EN\"\n \"http://www.w3.org/Graphics/SVG/1.1/DTD/svg11.dtd\">\n<!-- Generated by graphviz version 2.40.1 (20161225.0304)\n -->\n<!-- Title: %3 Pages: 1 -->\n<svg width=\"154pt\" height=\"228pt\"\n viewBox=\"0.00 0.00 153.50 228.00\" xmlns=\"http://www.w3.org/2000/svg\" xmlns:xlink=\"http://www.w3.org/1999/xlink\">\n<g id=\"graph0\" class=\"graph\" transform=\"scale(1 1) rotate(0) translate(4 224)\">\n<title>%3</title>\n<polygon fill=\"#ffffff\" stroke=\"transparent\" points=\"-4,4 -4,-224 149.5,-224 149.5,4 -4,4\"/>\n<!-- 139848641159296 -->\n<g id=\"node1\" class=\"node\">\n<title>139848641159296</title>\n<polygon fill=\"#caff70\" stroke=\"#000000\" points=\"113.5,-21 22.5,-21 22.5,0 113.5,0 113.5,-21\"/>\n<text text-anchor=\"middle\" x=\"68\" y=\"-7.4\" font-family=\"Times,serif\" font-size=\"12.00\" fill=\"#000000\">MulBackward0</text>\n</g>\n<!-- 139848641162656 -->\n<g id=\"node2\" class=\"node\">\n<title>139848641162656</title>\n<polygon fill=\"#d3d3d3\" stroke=\"#000000\" points=\"120,-78 16,-78 16,-57 120,-57 120,-78\"/>\n<text text-anchor=\"middle\" x=\"68\" y=\"-64.4\" font-family=\"Times,serif\" font-size=\"12.00\" fill=\"#000000\">AddmmBackward</text>\n</g>\n<!-- 139848641162656&#45;&gt;139848641159296 -->\n<g id=\"edge1\" class=\"edge\">\n<title>139848641162656&#45;&gt;139848641159296</title>\n<path fill=\"none\" stroke=\"#000000\" d=\"M68,-56.7787C68,-49.6134 68,-39.9517 68,-31.3097\"/>\n<polygon fill=\"#000000\" stroke=\"#000000\" points=\"71.5001,-31.1732 68,-21.1732 64.5001,-31.1732 71.5001,-31.1732\"/>\n</g>\n<!-- 139848641163104 -->\n<g id=\"node3\" class=\"node\">\n<title>139848641163104</title>\n<polygon fill=\"#add8e6\" stroke=\"#000000\" points=\"54,-149 0,-149 0,-114 54,-114 54,-149\"/>\n<text text-anchor=\"middle\" x=\"27\" y=\"-121.4\" font-family=\"Times,serif\" font-size=\"12.00\" fill=\"#000000\"> (10)</text>\n</g>\n<!-- 139848641163104&#45;&gt;139848641162656 -->\n<g id=\"edge2\" class=\"edge\">\n<title>139848641163104&#45;&gt;139848641162656</title>\n<path fill=\"none\" stroke=\"#000000\" d=\"M38.4208,-113.6724C43.7802,-105.3066 50.1771,-95.3212 55.6488,-86.7799\"/>\n<polygon fill=\"#000000\" stroke=\"#000000\" points=\"58.6831,-88.5318 61.1303,-78.2234 52.7889,-84.7558 58.6831,-88.5318\"/>\n</g>\n<!-- 139848641162936 -->\n<g id=\"node4\" class=\"node\">\n<title>139848641162936</title>\n<polygon fill=\"#d3d3d3\" stroke=\"#000000\" points=\"145.5,-142 72.5,-142 72.5,-121 145.5,-121 145.5,-142\"/>\n<text text-anchor=\"middle\" x=\"109\" y=\"-128.4\" font-family=\"Times,serif\" font-size=\"12.00\" fill=\"#000000\">TBackward</text>\n</g>\n<!-- 139848641162936&#45;&gt;139848641162656 -->\n<g id=\"edge3\" class=\"edge\">\n<title>139848641162936&#45;&gt;139848641162656</title>\n<path fill=\"none\" stroke=\"#000000\" d=\"M102.2297,-120.9317C96.3303,-111.723 87.6236,-98.1319 80.4678,-86.9619\"/>\n<polygon fill=\"#000000\" stroke=\"#000000\" points=\"83.2588,-84.8302 74.9174,-78.2979 77.3646,-88.6063 83.2588,-84.8302\"/>\n</g>\n<!-- 139848641162264 -->\n<g id=\"node5\" class=\"node\">\n<title>139848641162264</title>\n<polygon fill=\"#add8e6\" stroke=\"#000000\" points=\"140.5,-220 77.5,-220 77.5,-185 140.5,-185 140.5,-220\"/>\n<text text-anchor=\"middle\" x=\"109\" y=\"-192.4\" font-family=\"Times,serif\" font-size=\"12.00\" fill=\"#000000\"> (10, 784)</text>\n</g>\n<!-- 139848641162264&#45;&gt;139848641162936 -->\n<g id=\"edge4\" class=\"edge\">\n<title>139848641162264&#45;&gt;139848641162936</title>\n<path fill=\"none\" stroke=\"#000000\" d=\"M109,-184.9494C109,-175.058 109,-162.6435 109,-152.2693\"/>\n<polygon fill=\"#000000\" stroke=\"#000000\" points=\"112.5001,-152.0288 109,-142.0288 105.5001,-152.0289 112.5001,-152.0288\"/>\n</g>\n</g>\n</svg>\n"
          },
          "metadata": {
            "tags": []
          },
          "execution_count": 33
        }
      ]
    },
    {
      "cell_type": "code",
      "metadata": {
        "id": "Rsajy_mrG-Dw",
        "colab_type": "code",
        "colab": {
          "base_uri": "https://localhost:8080/",
          "height": 401
        },
        "outputId": "74805de8-13a1-42b2-a02d-675bd7042aae"
      },
      "source": [
        "make_dot(x)"
      ],
      "execution_count": 34,
      "outputs": [
        {
          "output_type": "execute_result",
          "data": {
            "text/plain": [
              "<graphviz.dot.Digraph at 0x7f310c942b00>"
            ],
            "image/svg+xml": "<?xml version=\"1.0\" encoding=\"UTF-8\" standalone=\"no\"?>\n<!DOCTYPE svg PUBLIC \"-//W3C//DTD SVG 1.1//EN\"\n \"http://www.w3.org/Graphics/SVG/1.1/DTD/svg11.dtd\">\n<!-- Generated by graphviz version 2.40.1 (20161225.0304)\n -->\n<!-- Title: %3 Pages: 1 -->\n<svg width=\"154pt\" height=\"285pt\"\n viewBox=\"0.00 0.00 153.50 285.00\" xmlns=\"http://www.w3.org/2000/svg\" xmlns:xlink=\"http://www.w3.org/1999/xlink\">\n<g id=\"graph0\" class=\"graph\" transform=\"scale(1 1) rotate(0) translate(4 281)\">\n<title>%3</title>\n<polygon fill=\"#ffffff\" stroke=\"transparent\" points=\"-4,4 -4,-281 149.5,-281 149.5,4 -4,4\"/>\n<!-- 139848698539312 -->\n<g id=\"node1\" class=\"node\">\n<title>139848698539312</title>\n<polygon fill=\"#caff70\" stroke=\"#000000\" points=\"114.5,-21 21.5,-21 21.5,0 114.5,0 114.5,-21\"/>\n<text text-anchor=\"middle\" x=\"68\" y=\"-7.4\" font-family=\"Times,serif\" font-size=\"12.00\" fill=\"#000000\">PowBackward0</text>\n</g>\n<!-- 139848641159296 -->\n<g id=\"node2\" class=\"node\">\n<title>139848641159296</title>\n<polygon fill=\"#d3d3d3\" stroke=\"#000000\" points=\"113.5,-78 22.5,-78 22.5,-57 113.5,-57 113.5,-78\"/>\n<text text-anchor=\"middle\" x=\"68\" y=\"-64.4\" font-family=\"Times,serif\" font-size=\"12.00\" fill=\"#000000\">MulBackward0</text>\n</g>\n<!-- 139848641159296&#45;&gt;139848698539312 -->\n<g id=\"edge1\" class=\"edge\">\n<title>139848641159296&#45;&gt;139848698539312</title>\n<path fill=\"none\" stroke=\"#000000\" d=\"M68,-56.7787C68,-49.6134 68,-39.9517 68,-31.3097\"/>\n<polygon fill=\"#000000\" stroke=\"#000000\" points=\"71.5001,-31.1732 68,-21.1732 64.5001,-31.1732 71.5001,-31.1732\"/>\n</g>\n<!-- 139848641162656 -->\n<g id=\"node3\" class=\"node\">\n<title>139848641162656</title>\n<polygon fill=\"#d3d3d3\" stroke=\"#000000\" points=\"120,-135 16,-135 16,-114 120,-114 120,-135\"/>\n<text text-anchor=\"middle\" x=\"68\" y=\"-121.4\" font-family=\"Times,serif\" font-size=\"12.00\" fill=\"#000000\">AddmmBackward</text>\n</g>\n<!-- 139848641162656&#45;&gt;139848641159296 -->\n<g id=\"edge2\" class=\"edge\">\n<title>139848641162656&#45;&gt;139848641159296</title>\n<path fill=\"none\" stroke=\"#000000\" d=\"M68,-113.7787C68,-106.6134 68,-96.9517 68,-88.3097\"/>\n<polygon fill=\"#000000\" stroke=\"#000000\" points=\"71.5001,-88.1732 68,-78.1732 64.5001,-88.1732 71.5001,-88.1732\"/>\n</g>\n<!-- 139848641163104 -->\n<g id=\"node4\" class=\"node\">\n<title>139848641163104</title>\n<polygon fill=\"#add8e6\" stroke=\"#000000\" points=\"54,-206 0,-206 0,-171 54,-171 54,-206\"/>\n<text text-anchor=\"middle\" x=\"27\" y=\"-178.4\" font-family=\"Times,serif\" font-size=\"12.00\" fill=\"#000000\"> (10)</text>\n</g>\n<!-- 139848641163104&#45;&gt;139848641162656 -->\n<g id=\"edge3\" class=\"edge\">\n<title>139848641163104&#45;&gt;139848641162656</title>\n<path fill=\"none\" stroke=\"#000000\" d=\"M38.4208,-170.6724C43.7802,-162.3066 50.1771,-152.3212 55.6488,-143.7799\"/>\n<polygon fill=\"#000000\" stroke=\"#000000\" points=\"58.6831,-145.5318 61.1303,-135.2234 52.7889,-141.7558 58.6831,-145.5318\"/>\n</g>\n<!-- 139848641162936 -->\n<g id=\"node5\" class=\"node\">\n<title>139848641162936</title>\n<polygon fill=\"#d3d3d3\" stroke=\"#000000\" points=\"145.5,-199 72.5,-199 72.5,-178 145.5,-178 145.5,-199\"/>\n<text text-anchor=\"middle\" x=\"109\" y=\"-185.4\" font-family=\"Times,serif\" font-size=\"12.00\" fill=\"#000000\">TBackward</text>\n</g>\n<!-- 139848641162936&#45;&gt;139848641162656 -->\n<g id=\"edge4\" class=\"edge\">\n<title>139848641162936&#45;&gt;139848641162656</title>\n<path fill=\"none\" stroke=\"#000000\" d=\"M102.2297,-177.9317C96.3303,-168.723 87.6236,-155.1319 80.4678,-143.9619\"/>\n<polygon fill=\"#000000\" stroke=\"#000000\" points=\"83.2588,-141.8302 74.9174,-135.2979 77.3646,-145.6063 83.2588,-141.8302\"/>\n</g>\n<!-- 139848641162264 -->\n<g id=\"node6\" class=\"node\">\n<title>139848641162264</title>\n<polygon fill=\"#add8e6\" stroke=\"#000000\" points=\"140.5,-277 77.5,-277 77.5,-242 140.5,-242 140.5,-277\"/>\n<text text-anchor=\"middle\" x=\"109\" y=\"-249.4\" font-family=\"Times,serif\" font-size=\"12.00\" fill=\"#000000\"> (10, 784)</text>\n</g>\n<!-- 139848641162264&#45;&gt;139848641162936 -->\n<g id=\"edge5\" class=\"edge\">\n<title>139848641162264&#45;&gt;139848641162936</title>\n<path fill=\"none\" stroke=\"#000000\" d=\"M109,-241.9494C109,-232.058 109,-219.6435 109,-209.2693\"/>\n<polygon fill=\"#000000\" stroke=\"#000000\" points=\"112.5001,-209.0288 109,-199.0288 105.5001,-209.0289 112.5001,-209.0288\"/>\n</g>\n</g>\n</svg>\n"
          },
          "metadata": {
            "tags": []
          },
          "execution_count": 34
        }
      ]
    },
    {
      "cell_type": "markdown",
      "metadata": {
        "id": "WgoQAVJAJtkd",
        "colab_type": "text"
      },
      "source": [
        "These various properties of the ```out``` tensor are defined, but its contents are not, and we haven't encountered an error yet because the computation of the actual values of these operations on ```out``` is delayed until necessary. The following line causes a memory access error on the gpu and you'll have to restart the runtime if you execute it:"
      ]
    },
    {
      "cell_type": "code",
      "metadata": {
        "id": "u-mTOxOyBgTn",
        "colab_type": "code",
        "colab": {}
      },
      "source": [
        "#print(x) # illegal memory access in order to get the contents for printing"
      ],
      "execution_count": 35,
      "outputs": []
    },
    {
      "cell_type": "code",
      "metadata": {
        "id": "JvcLJfwyDI8P",
        "colab_type": "code",
        "colab": {}
      },
      "source": [
        "fit = Loss(out, labels) # fine if labels is already on the gpu, otherwise it's a mismatched devices error"
      ],
      "execution_count": 36,
      "outputs": []
    },
    {
      "cell_type": "code",
      "metadata": {
        "id": "CbxC4igTIWp7",
        "colab_type": "code",
        "colab": {
          "base_uri": "https://localhost:8080/",
          "height": 477
        },
        "outputId": "a726c488-7ed0-43a1-9274-04e24efa7d12"
      },
      "source": [
        "make_dot(fit) # computation graph makes sense\n",
        "\n",
        "# also note the logsoftmax + NLL loss ops combined in the CrossEntropyLoss \n",
        "# https://pytorch.org/docs/stable/generated/torch.nn.CrossEntropyLoss.html"
      ],
      "execution_count": 37,
      "outputs": [
        {
          "output_type": "execute_result",
          "data": {
            "text/plain": [
              "<graphviz.dot.Digraph at 0x7f310fffaa58>"
            ],
            "image/svg+xml": "<?xml version=\"1.0\" encoding=\"UTF-8\" standalone=\"no\"?>\n<!DOCTYPE svg PUBLIC \"-//W3C//DTD SVG 1.1//EN\"\n \"http://www.w3.org/Graphics/SVG/1.1/DTD/svg11.dtd\">\n<!-- Generated by graphviz version 2.40.1 (20161225.0304)\n -->\n<!-- Title: %3 Pages: 1 -->\n<svg width=\"154pt\" height=\"342pt\"\n viewBox=\"0.00 0.00 153.50 342.00\" xmlns=\"http://www.w3.org/2000/svg\" xmlns:xlink=\"http://www.w3.org/1999/xlink\">\n<g id=\"graph0\" class=\"graph\" transform=\"scale(1 1) rotate(0) translate(4 338)\">\n<title>%3</title>\n<polygon fill=\"#ffffff\" stroke=\"transparent\" points=\"-4,4 -4,-338 149.5,-338 149.5,4 -4,4\"/>\n<!-- 139848698536792 -->\n<g id=\"node1\" class=\"node\">\n<title>139848698536792</title>\n<polygon fill=\"#caff70\" stroke=\"#000000\" points=\"119.5,-21 16.5,-21 16.5,0 119.5,0 119.5,-21\"/>\n<text text-anchor=\"middle\" x=\"68\" y=\"-7.4\" font-family=\"Times,serif\" font-size=\"12.00\" fill=\"#000000\">NllLossBackward</text>\n</g>\n<!-- 139848698539760 -->\n<g id=\"node2\" class=\"node\">\n<title>139848698539760</title>\n<polygon fill=\"#d3d3d3\" stroke=\"#000000\" points=\"130.5,-78 5.5,-78 5.5,-57 130.5,-57 130.5,-78\"/>\n<text text-anchor=\"middle\" x=\"68\" y=\"-64.4\" font-family=\"Times,serif\" font-size=\"12.00\" fill=\"#000000\">LogSoftmaxBackward</text>\n</g>\n<!-- 139848698539760&#45;&gt;139848698536792 -->\n<g id=\"edge1\" class=\"edge\">\n<title>139848698539760&#45;&gt;139848698536792</title>\n<path fill=\"none\" stroke=\"#000000\" d=\"M68,-56.7787C68,-49.6134 68,-39.9517 68,-31.3097\"/>\n<polygon fill=\"#000000\" stroke=\"#000000\" points=\"71.5001,-31.1732 68,-21.1732 64.5001,-31.1732 71.5001,-31.1732\"/>\n</g>\n<!-- 139848641159296 -->\n<g id=\"node3\" class=\"node\">\n<title>139848641159296</title>\n<polygon fill=\"#d3d3d3\" stroke=\"#000000\" points=\"113.5,-135 22.5,-135 22.5,-114 113.5,-114 113.5,-135\"/>\n<text text-anchor=\"middle\" x=\"68\" y=\"-121.4\" font-family=\"Times,serif\" font-size=\"12.00\" fill=\"#000000\">MulBackward0</text>\n</g>\n<!-- 139848641159296&#45;&gt;139848698539760 -->\n<g id=\"edge2\" class=\"edge\">\n<title>139848641159296&#45;&gt;139848698539760</title>\n<path fill=\"none\" stroke=\"#000000\" d=\"M68,-113.7787C68,-106.6134 68,-96.9517 68,-88.3097\"/>\n<polygon fill=\"#000000\" stroke=\"#000000\" points=\"71.5001,-88.1732 68,-78.1732 64.5001,-88.1732 71.5001,-88.1732\"/>\n</g>\n<!-- 139848641162656 -->\n<g id=\"node4\" class=\"node\">\n<title>139848641162656</title>\n<polygon fill=\"#d3d3d3\" stroke=\"#000000\" points=\"120,-192 16,-192 16,-171 120,-171 120,-192\"/>\n<text text-anchor=\"middle\" x=\"68\" y=\"-178.4\" font-family=\"Times,serif\" font-size=\"12.00\" fill=\"#000000\">AddmmBackward</text>\n</g>\n<!-- 139848641162656&#45;&gt;139848641159296 -->\n<g id=\"edge3\" class=\"edge\">\n<title>139848641162656&#45;&gt;139848641159296</title>\n<path fill=\"none\" stroke=\"#000000\" d=\"M68,-170.7787C68,-163.6134 68,-153.9517 68,-145.3097\"/>\n<polygon fill=\"#000000\" stroke=\"#000000\" points=\"71.5001,-145.1732 68,-135.1732 64.5001,-145.1732 71.5001,-145.1732\"/>\n</g>\n<!-- 139848641163104 -->\n<g id=\"node5\" class=\"node\">\n<title>139848641163104</title>\n<polygon fill=\"#add8e6\" stroke=\"#000000\" points=\"54,-263 0,-263 0,-228 54,-228 54,-263\"/>\n<text text-anchor=\"middle\" x=\"27\" y=\"-235.4\" font-family=\"Times,serif\" font-size=\"12.00\" fill=\"#000000\"> (10)</text>\n</g>\n<!-- 139848641163104&#45;&gt;139848641162656 -->\n<g id=\"edge4\" class=\"edge\">\n<title>139848641163104&#45;&gt;139848641162656</title>\n<path fill=\"none\" stroke=\"#000000\" d=\"M38.4208,-227.6724C43.7802,-219.3066 50.1771,-209.3212 55.6488,-200.7799\"/>\n<polygon fill=\"#000000\" stroke=\"#000000\" points=\"58.6831,-202.5318 61.1303,-192.2234 52.7889,-198.7558 58.6831,-202.5318\"/>\n</g>\n<!-- 139848641162936 -->\n<g id=\"node6\" class=\"node\">\n<title>139848641162936</title>\n<polygon fill=\"#d3d3d3\" stroke=\"#000000\" points=\"145.5,-256 72.5,-256 72.5,-235 145.5,-235 145.5,-256\"/>\n<text text-anchor=\"middle\" x=\"109\" y=\"-242.4\" font-family=\"Times,serif\" font-size=\"12.00\" fill=\"#000000\">TBackward</text>\n</g>\n<!-- 139848641162936&#45;&gt;139848641162656 -->\n<g id=\"edge5\" class=\"edge\">\n<title>139848641162936&#45;&gt;139848641162656</title>\n<path fill=\"none\" stroke=\"#000000\" d=\"M102.2297,-234.9317C96.3303,-225.723 87.6236,-212.1319 80.4678,-200.9619\"/>\n<polygon fill=\"#000000\" stroke=\"#000000\" points=\"83.2588,-198.8302 74.9174,-192.2979 77.3646,-202.6063 83.2588,-198.8302\"/>\n</g>\n<!-- 139848641162264 -->\n<g id=\"node7\" class=\"node\">\n<title>139848641162264</title>\n<polygon fill=\"#add8e6\" stroke=\"#000000\" points=\"140.5,-334 77.5,-334 77.5,-299 140.5,-299 140.5,-334\"/>\n<text text-anchor=\"middle\" x=\"109\" y=\"-306.4\" font-family=\"Times,serif\" font-size=\"12.00\" fill=\"#000000\"> (10, 784)</text>\n</g>\n<!-- 139848641162264&#45;&gt;139848641162936 -->\n<g id=\"edge6\" class=\"edge\">\n<title>139848641162264&#45;&gt;139848641162936</title>\n<path fill=\"none\" stroke=\"#000000\" d=\"M109,-298.9494C109,-289.058 109,-276.6435 109,-266.2693\"/>\n<polygon fill=\"#000000\" stroke=\"#000000\" points=\"112.5001,-266.0288 109,-256.0288 105.5001,-266.0289 112.5001,-266.0288\"/>\n</g>\n</g>\n</svg>\n"
          },
          "metadata": {
            "tags": []
          },
          "execution_count": 37
        }
      ]
    },
    {
      "cell_type": "code",
      "metadata": {
        "id": "1I2LUzFg4IQ-",
        "colab_type": "code",
        "colab": {
          "base_uri": "https://localhost:8080/",
          "height": 1000
        },
        "outputId": "5892f86a-e502-4cce-e062-4009c4884e9b"
      },
      "source": [
        "fit.backward() # oh no!"
      ],
      "execution_count": 38,
      "outputs": [
        {
          "output_type": "error",
          "ename": "RuntimeError",
          "evalue": "ignored",
          "traceback": [
            "\u001b[0;31m---------------------------------------------------------------------------\u001b[0m",
            "\u001b[0;31mRuntimeError\u001b[0m                              Traceback (most recent call last)",
            "\u001b[0;32m<ipython-input-38-b7d940b39b61>\u001b[0m in \u001b[0;36m<module>\u001b[0;34m()\u001b[0m\n\u001b[0;32m----> 1\u001b[0;31m \u001b[0mfit\u001b[0m\u001b[0;34m.\u001b[0m\u001b[0mbackward\u001b[0m\u001b[0;34m(\u001b[0m\u001b[0;34m)\u001b[0m \u001b[0;31m# oh no!\u001b[0m\u001b[0;34m\u001b[0m\u001b[0;34m\u001b[0m\u001b[0m\n\u001b[0m",
            "\u001b[0;32m/usr/local/lib/python3.6/dist-packages/torch/tensor.py\u001b[0m in \u001b[0;36mbackward\u001b[0;34m(self, gradient, retain_graph, create_graph)\u001b[0m\n\u001b[1;32m    183\u001b[0m                 \u001b[0mproducts\u001b[0m\u001b[0;34m.\u001b[0m \u001b[0mDefaults\u001b[0m \u001b[0mto\u001b[0m\u001b[0;31m \u001b[0m\u001b[0;31m`\u001b[0m\u001b[0;31m`\u001b[0m\u001b[0;32mFalse\u001b[0m\u001b[0;31m`\u001b[0m\u001b[0;31m`\u001b[0m\u001b[0;34m.\u001b[0m\u001b[0;34m\u001b[0m\u001b[0;34m\u001b[0m\u001b[0m\n\u001b[1;32m    184\u001b[0m         \"\"\"\n\u001b[0;32m--> 185\u001b[0;31m         \u001b[0mtorch\u001b[0m\u001b[0;34m.\u001b[0m\u001b[0mautograd\u001b[0m\u001b[0;34m.\u001b[0m\u001b[0mbackward\u001b[0m\u001b[0;34m(\u001b[0m\u001b[0mself\u001b[0m\u001b[0;34m,\u001b[0m \u001b[0mgradient\u001b[0m\u001b[0;34m,\u001b[0m \u001b[0mretain_graph\u001b[0m\u001b[0;34m,\u001b[0m \u001b[0mcreate_graph\u001b[0m\u001b[0;34m)\u001b[0m\u001b[0;34m\u001b[0m\u001b[0;34m\u001b[0m\u001b[0m\n\u001b[0m\u001b[1;32m    186\u001b[0m \u001b[0;34m\u001b[0m\u001b[0m\n\u001b[1;32m    187\u001b[0m     \u001b[0;32mdef\u001b[0m \u001b[0mregister_hook\u001b[0m\u001b[0;34m(\u001b[0m\u001b[0mself\u001b[0m\u001b[0;34m,\u001b[0m \u001b[0mhook\u001b[0m\u001b[0;34m)\u001b[0m\u001b[0;34m:\u001b[0m\u001b[0;34m\u001b[0m\u001b[0;34m\u001b[0m\u001b[0m\n",
            "\u001b[0;32m/usr/local/lib/python3.6/dist-packages/torch/autograd/__init__.py\u001b[0m in \u001b[0;36mbackward\u001b[0;34m(tensors, grad_tensors, retain_graph, create_graph, grad_variables)\u001b[0m\n\u001b[1;32m    125\u001b[0m     Variable._execution_engine.run_backward(\n\u001b[1;32m    126\u001b[0m         \u001b[0mtensors\u001b[0m\u001b[0;34m,\u001b[0m \u001b[0mgrad_tensors\u001b[0m\u001b[0;34m,\u001b[0m \u001b[0mretain_graph\u001b[0m\u001b[0;34m,\u001b[0m \u001b[0mcreate_graph\u001b[0m\u001b[0;34m,\u001b[0m\u001b[0;34m\u001b[0m\u001b[0;34m\u001b[0m\u001b[0m\n\u001b[0;32m--> 127\u001b[0;31m         allow_unreachable=True)  # allow_unreachable flag\n\u001b[0m\u001b[1;32m    128\u001b[0m \u001b[0;34m\u001b[0m\u001b[0m\n\u001b[1;32m    129\u001b[0m \u001b[0;34m\u001b[0m\u001b[0m\n",
            "\u001b[0;31mRuntimeError\u001b[0m: CUDA error: CUBLAS_STATUS_ALLOC_FAILED when calling `cublasCreate(handle)`\nException raised from createCublasHandle at /pytorch/aten/src/ATen/cuda/CublasHandlePool.cpp:8 (most recent call first):\nframe #0: c10::Error::Error(c10::SourceLocation, std::string) + 0x42 (0x7f31115ac1e2 in /usr/local/lib/python3.6/dist-packages/torch/lib/libc10.so)\nframe #1: <unknown function> + 0xf276e5 (0x7f311293c6e5 in /usr/local/lib/python3.6/dist-packages/torch/lib/libtorch_cuda.so)\nframe #2: at::cuda::getCurrentCUDABlasHandle() + 0xb75 (0x7f311293d5c5 in /usr/local/lib/python3.6/dist-packages/torch/lib/libtorch_cuda.so)\nframe #3: <unknown function> + 0xf1a777 (0x7f311292f777 in /usr/local/lib/python3.6/dist-packages/torch/lib/libtorch_cuda.so)\nframe #4: at::native::(anonymous namespace)::addmm_out_cuda_impl(at::Tensor&, at::Tensor const&, at::Tensor const&, at::Tensor const&, c10::Scalar, c10::Scalar) + 0xf15 (0x7f3113a199f5 in /usr/local/lib/python3.6/dist-packages/torch/lib/libtorch_cuda.so)\nframe #5: at::native::mm_cuda(at::Tensor const&, at::Tensor const&) + 0xb3 (0x7f3113a1b8f3 in /usr/local/lib/python3.6/dist-packages/torch/lib/libtorch_cuda.so)\nframe #6: <unknown function> + 0xf40400 (0x7f3112955400 in /usr/local/lib/python3.6/dist-packages/torch/lib/libtorch_cuda.so)\nframe #7: <unknown function> + 0xa56530 (0x7f3149057530 in /usr/local/lib/python3.6/dist-packages/torch/lib/libtorch_cpu.so)\nframe #8: at::Tensor c10::Dispatcher::call<at::Tensor, at::Tensor const&, at::Tensor const&>(c10::TypedOperatorHandle<at::Tensor (at::Tensor const&, at::Tensor const&)> const&, at::Tensor const&, at::Tensor const&) const + 0xbc (0x7f314983f81c in /usr/local/lib/python3.6/dist-packages/torch/lib/libtorch_cpu.so)\nframe #9: at::mm(at::Tensor const&, at::Tensor const&) + 0x4b (0x7f31497906ab in /usr/local/lib/python3.6/dist-packages/torch/lib/libtorch_cpu.so)\nframe #10: <unknown function> + 0x2ed0a2f (0x7f314b4d1a2f in /usr/local/lib/python3.6/dist-packages/torch/lib/libtorch_cpu.so)\nframe #11: <unknown function> + 0xa56530 (0x7f3149057530 in /usr/local/lib/python3.6/dist-packages/torch/lib/libtorch_cpu.so)\nframe #12: at::Tensor c10::Dispatcher::call<at::Tensor, at::Tensor const&, at::Tensor const&>(c10::TypedOperatorHandle<at::Tensor (at::Tensor const&, at::Tensor const&)> const&, at::Tensor const&, at::Tensor const&) const + 0xbc (0x7f314983f81c in /usr/local/lib/python3.6/dist-packages/torch/lib/libtorch_cpu.so)\nframe #13: at::Tensor::mm(at::Tensor const&) const + 0x4b (0x7f3149925cab in /usr/local/lib/python3.6/dist-packages/torch/lib/libtorch_cpu.so)\nframe #14: <unknown function> + 0x2d11fbb (0x7f314b312fbb in /usr/local/lib/python3.6/dist-packages/torch/lib/libtorch_cpu.so)\nframe #15: torch::autograd::generated::AddmmBackward::apply(std::vector<at::Tensor, std::allocator<at::Tensor> >&&) + 0x2a0 (0x7f314b318bc0 in /usr/local/lib/python3.6/dist-packages/torch/lib/libtorch_cpu.so)\nframe #16: <unknown function> + 0x3375bb7 (0x7f314b976bb7 in /usr/local/lib/python3.6/dist-packages/torch/lib/libtorch_cpu.so)\nframe #17: torch::autograd::Engine::evaluate_function(std::shared_ptr<torch::autograd::GraphTask>&, torch::autograd::Node*, torch::autograd::InputBuffer&, std::shared_ptr<torch::autograd::ReadyQueue> const&) + 0x1400 (0x7f314b972400 in /usr/local/lib/python3.6/dist-packages/torch/lib/libtorch_cpu.so)\nframe #18: torch::autograd::Engine::thread_main(std::shared_ptr<torch::autograd::GraphTask> const&) + 0x451 (0x7f314b972fa1 in /usr/local/lib/python3.6/dist-packages/torch/lib/libtorch_cpu.so)\nframe #19: torch::autograd::Engine::thread_init(int, std::shared_ptr<torch::autograd::ReadyQueue> const&, bool) + 0x89 (0x7f314b96b119 in /usr/local/lib/python3.6/dist-packages/torch/lib/libtorch_cpu.so)\nframe #20: torch::autograd::python::PythonEngine::thread_init(int, std::shared_ptr<torch::autograd::ReadyQueue> const&, bool) + 0x4a (0x7f315910b34a in /usr/local/lib/python3.6/dist-packages/torch/lib/libtorch_python.so)\nframe #21: <unknown function> + 0xbd6df (0x7f31752c36df in /usr/lib/x86_64-linux-gnu/libstdc++.so.6)\nframe #22: <unknown function> + 0x76db (0x7f31763a56db in /lib/x86_64-linux-gnu/libpthread.so.0)\nframe #23: clone + 0x3f (0x7f31766dea3f in /lib/x86_64-linux-gnu/libc.so.6)\n"
          ]
        }
      ]
    },
    {
      "cell_type": "markdown",
      "metadata": {
        "id": "3TqEWRfM3q_a",
        "colab_type": "text"
      },
      "source": [
        "Calling ```backward()``` finally requires the specific contents of the original input, so as soon as this operation is attempted it causes illegal memory access. This has also now caused a failed assertion on the gpu and the device needs to be reinitialized before the host can synchronize with it again, so if we try to perform more operations on the gpu, we will keep having errors about illegal memory access..."
      ]
    },
    {
      "cell_type": "code",
      "metadata": {
        "id": "zIZLwWaE4OxZ",
        "colab_type": "code",
        "colab": {
          "base_uri": "https://localhost:8080/",
          "height": 390
        },
        "outputId": "9d73ca2a-f829-48bf-9339-267f12c5b071"
      },
      "source": [
        "newnet = LinearReg().cuda()\n",
        "\n",
        "#output = net(torch.rand(64, 1, 28, 28, device='cuda:0')) # this also doesn't work"
      ],
      "execution_count": 39,
      "outputs": [
        {
          "output_type": "error",
          "ename": "RuntimeError",
          "evalue": "ignored",
          "traceback": [
            "\u001b[0;31m---------------------------------------------------------------------------\u001b[0m",
            "\u001b[0;31mRuntimeError\u001b[0m                              Traceback (most recent call last)",
            "\u001b[0;32m<ipython-input-39-7671a3d83b2f>\u001b[0m in \u001b[0;36m<module>\u001b[0;34m()\u001b[0m\n\u001b[0;32m----> 1\u001b[0;31m \u001b[0mnewnet\u001b[0m \u001b[0;34m=\u001b[0m \u001b[0mLinearReg\u001b[0m\u001b[0;34m(\u001b[0m\u001b[0;34m)\u001b[0m\u001b[0;34m.\u001b[0m\u001b[0mcuda\u001b[0m\u001b[0;34m(\u001b[0m\u001b[0;34m)\u001b[0m\u001b[0;34m\u001b[0m\u001b[0;34m\u001b[0m\u001b[0m\n\u001b[0m\u001b[1;32m      2\u001b[0m \u001b[0;34m\u001b[0m\u001b[0m\n\u001b[1;32m      3\u001b[0m \u001b[0;31m#output = net(torch.rand(64, 1, 28, 28, device='cuda:0')) # this also doesn't work\u001b[0m\u001b[0;34m\u001b[0m\u001b[0;34m\u001b[0m\u001b[0;34m\u001b[0m\u001b[0m\n",
            "\u001b[0;32m/usr/local/lib/python3.6/dist-packages/torch/nn/modules/module.py\u001b[0m in \u001b[0;36mcuda\u001b[0;34m(self, device)\u001b[0m\n\u001b[1;32m    456\u001b[0m             \u001b[0mModule\u001b[0m\u001b[0;34m:\u001b[0m \u001b[0mself\u001b[0m\u001b[0;34m\u001b[0m\u001b[0;34m\u001b[0m\u001b[0m\n\u001b[1;32m    457\u001b[0m         \"\"\"\n\u001b[0;32m--> 458\u001b[0;31m         \u001b[0;32mreturn\u001b[0m \u001b[0mself\u001b[0m\u001b[0;34m.\u001b[0m\u001b[0m_apply\u001b[0m\u001b[0;34m(\u001b[0m\u001b[0;32mlambda\u001b[0m \u001b[0mt\u001b[0m\u001b[0;34m:\u001b[0m \u001b[0mt\u001b[0m\u001b[0;34m.\u001b[0m\u001b[0mcuda\u001b[0m\u001b[0;34m(\u001b[0m\u001b[0mdevice\u001b[0m\u001b[0;34m)\u001b[0m\u001b[0;34m)\u001b[0m\u001b[0;34m\u001b[0m\u001b[0;34m\u001b[0m\u001b[0m\n\u001b[0m\u001b[1;32m    459\u001b[0m \u001b[0;34m\u001b[0m\u001b[0m\n\u001b[1;32m    460\u001b[0m     \u001b[0;32mdef\u001b[0m \u001b[0mcpu\u001b[0m\u001b[0;34m(\u001b[0m\u001b[0mself\u001b[0m\u001b[0;34m:\u001b[0m \u001b[0mT\u001b[0m\u001b[0;34m)\u001b[0m \u001b[0;34m->\u001b[0m \u001b[0mT\u001b[0m\u001b[0;34m:\u001b[0m\u001b[0;34m\u001b[0m\u001b[0;34m\u001b[0m\u001b[0m\n",
            "\u001b[0;32m/usr/local/lib/python3.6/dist-packages/torch/nn/modules/module.py\u001b[0m in \u001b[0;36m_apply\u001b[0;34m(self, fn)\u001b[0m\n\u001b[1;32m    352\u001b[0m     \u001b[0;32mdef\u001b[0m \u001b[0m_apply\u001b[0m\u001b[0;34m(\u001b[0m\u001b[0mself\u001b[0m\u001b[0;34m,\u001b[0m \u001b[0mfn\u001b[0m\u001b[0;34m)\u001b[0m\u001b[0;34m:\u001b[0m\u001b[0;34m\u001b[0m\u001b[0;34m\u001b[0m\u001b[0m\n\u001b[1;32m    353\u001b[0m         \u001b[0;32mfor\u001b[0m \u001b[0mmodule\u001b[0m \u001b[0;32min\u001b[0m \u001b[0mself\u001b[0m\u001b[0;34m.\u001b[0m\u001b[0mchildren\u001b[0m\u001b[0;34m(\u001b[0m\u001b[0;34m)\u001b[0m\u001b[0;34m:\u001b[0m\u001b[0;34m\u001b[0m\u001b[0;34m\u001b[0m\u001b[0m\n\u001b[0;32m--> 354\u001b[0;31m             \u001b[0mmodule\u001b[0m\u001b[0;34m.\u001b[0m\u001b[0m_apply\u001b[0m\u001b[0;34m(\u001b[0m\u001b[0mfn\u001b[0m\u001b[0;34m)\u001b[0m\u001b[0;34m\u001b[0m\u001b[0;34m\u001b[0m\u001b[0m\n\u001b[0m\u001b[1;32m    355\u001b[0m \u001b[0;34m\u001b[0m\u001b[0m\n\u001b[1;32m    356\u001b[0m         \u001b[0;32mdef\u001b[0m \u001b[0mcompute_should_use_set_data\u001b[0m\u001b[0;34m(\u001b[0m\u001b[0mtensor\u001b[0m\u001b[0;34m,\u001b[0m \u001b[0mtensor_applied\u001b[0m\u001b[0;34m)\u001b[0m\u001b[0;34m:\u001b[0m\u001b[0;34m\u001b[0m\u001b[0;34m\u001b[0m\u001b[0m\n",
            "\u001b[0;32m/usr/local/lib/python3.6/dist-packages/torch/nn/modules/module.py\u001b[0m in \u001b[0;36m_apply\u001b[0;34m(self, fn)\u001b[0m\n\u001b[1;32m    374\u001b[0m                 \u001b[0;31m# `with torch.no_grad():`\u001b[0m\u001b[0;34m\u001b[0m\u001b[0;34m\u001b[0m\u001b[0;34m\u001b[0m\u001b[0m\n\u001b[1;32m    375\u001b[0m                 \u001b[0;32mwith\u001b[0m \u001b[0mtorch\u001b[0m\u001b[0;34m.\u001b[0m\u001b[0mno_grad\u001b[0m\u001b[0;34m(\u001b[0m\u001b[0;34m)\u001b[0m\u001b[0;34m:\u001b[0m\u001b[0;34m\u001b[0m\u001b[0;34m\u001b[0m\u001b[0m\n\u001b[0;32m--> 376\u001b[0;31m                     \u001b[0mparam_applied\u001b[0m \u001b[0;34m=\u001b[0m \u001b[0mfn\u001b[0m\u001b[0;34m(\u001b[0m\u001b[0mparam\u001b[0m\u001b[0;34m)\u001b[0m\u001b[0;34m\u001b[0m\u001b[0;34m\u001b[0m\u001b[0m\n\u001b[0m\u001b[1;32m    377\u001b[0m                 \u001b[0mshould_use_set_data\u001b[0m \u001b[0;34m=\u001b[0m \u001b[0mcompute_should_use_set_data\u001b[0m\u001b[0;34m(\u001b[0m\u001b[0mparam\u001b[0m\u001b[0;34m,\u001b[0m \u001b[0mparam_applied\u001b[0m\u001b[0;34m)\u001b[0m\u001b[0;34m\u001b[0m\u001b[0;34m\u001b[0m\u001b[0m\n\u001b[1;32m    378\u001b[0m                 \u001b[0;32mif\u001b[0m \u001b[0mshould_use_set_data\u001b[0m\u001b[0;34m:\u001b[0m\u001b[0;34m\u001b[0m\u001b[0;34m\u001b[0m\u001b[0m\n",
            "\u001b[0;32m/usr/local/lib/python3.6/dist-packages/torch/nn/modules/module.py\u001b[0m in \u001b[0;36m<lambda>\u001b[0;34m(t)\u001b[0m\n\u001b[1;32m    456\u001b[0m             \u001b[0mModule\u001b[0m\u001b[0;34m:\u001b[0m \u001b[0mself\u001b[0m\u001b[0;34m\u001b[0m\u001b[0;34m\u001b[0m\u001b[0m\n\u001b[1;32m    457\u001b[0m         \"\"\"\n\u001b[0;32m--> 458\u001b[0;31m         \u001b[0;32mreturn\u001b[0m \u001b[0mself\u001b[0m\u001b[0;34m.\u001b[0m\u001b[0m_apply\u001b[0m\u001b[0;34m(\u001b[0m\u001b[0;32mlambda\u001b[0m \u001b[0mt\u001b[0m\u001b[0;34m:\u001b[0m \u001b[0mt\u001b[0m\u001b[0;34m.\u001b[0m\u001b[0mcuda\u001b[0m\u001b[0;34m(\u001b[0m\u001b[0mdevice\u001b[0m\u001b[0;34m)\u001b[0m\u001b[0;34m)\u001b[0m\u001b[0;34m\u001b[0m\u001b[0;34m\u001b[0m\u001b[0m\n\u001b[0m\u001b[1;32m    459\u001b[0m \u001b[0;34m\u001b[0m\u001b[0m\n\u001b[1;32m    460\u001b[0m     \u001b[0;32mdef\u001b[0m \u001b[0mcpu\u001b[0m\u001b[0;34m(\u001b[0m\u001b[0mself\u001b[0m\u001b[0;34m:\u001b[0m \u001b[0mT\u001b[0m\u001b[0;34m)\u001b[0m \u001b[0;34m->\u001b[0m \u001b[0mT\u001b[0m\u001b[0;34m:\u001b[0m\u001b[0;34m\u001b[0m\u001b[0;34m\u001b[0m\u001b[0m\n",
            "\u001b[0;31mRuntimeError\u001b[0m: CUDA error: an illegal memory access was encountered"
          ]
        }
      ]
    },
    {
      "cell_type": "markdown",
      "metadata": {
        "id": "vXhWHlDO5Hv1",
        "colab_type": "text"
      },
      "source": [
        "...until we restart the runtime, which calls ```cudaDeviceReset()``` and reinitializes the device. Note that it's a good idea to use \"Factory reset runtime\" to make sure all data and errors are completely cleared (and you should do that here before you try to run the code below)."
      ]
    },
    {
      "cell_type": "markdown",
      "metadata": {
        "id": "tgdovosk564z",
        "colab_type": "text"
      },
      "source": [
        "TL;DR: if we go back to where we created the data loader, change ```pinned = True``` so the attribute ```pin_memory=True```, the devices will use shared memory and we avoid issues with mixing tensors:"
      ]
    },
    {
      "cell_type": "code",
      "metadata": {
        "id": "sz878ma-5w0R",
        "colab_type": "code",
        "colab": {}
      },
      "source": [
        "out = net(images)"
      ],
      "execution_count": null,
      "outputs": []
    },
    {
      "cell_type": "code",
      "metadata": {
        "id": "mCwMldgH74sW",
        "colab_type": "code",
        "colab": {}
      },
      "source": [
        "fit = Loss(out, labels)"
      ],
      "execution_count": null,
      "outputs": []
    },
    {
      "cell_type": "code",
      "metadata": {
        "id": "MQUPGhO475MZ",
        "colab_type": "code",
        "colab": {}
      },
      "source": [
        "fit.backward()"
      ],
      "execution_count": null,
      "outputs": []
    },
    {
      "cell_type": "code",
      "metadata": {
        "id": "gQPa9aFV8yh3",
        "colab_type": "code",
        "colab": {}
      },
      "source": [
        "out"
      ],
      "execution_count": null,
      "outputs": []
    },
    {
      "cell_type": "code",
      "metadata": {
        "id": "qtDdQhvx8zIs",
        "colab_type": "code",
        "colab": {}
      },
      "source": [
        ""
      ],
      "execution_count": null,
      "outputs": []
    }
  ]
}